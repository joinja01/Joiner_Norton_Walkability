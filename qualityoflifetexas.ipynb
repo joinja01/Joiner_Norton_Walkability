{
 "cells": [
  {
   "cell_type": "code",
   "execution_count": 125,
   "metadata": {},
   "outputs": [],
   "source": [
    "import pandas as pd\n",
    "import numpy as np\n",
    "import seaborn as sns\n",
    "from sklearn.preprocessing import StandardScaler\n",
    "from sklearn.ensemble import RandomForestClassifier\n",
    "from sklearn.metrics import classification_report, confusion_matrix\n",
    "import matplotlib.pyplot as plt\n",
    "from sklearn.model_selection import train_test_split\n",
    "import re\n",
    "\n",
    "Texas_quality = pd.read_csv(\"Texas_Qualitylife.csv\")"
   ]
  },
  {
   "cell_type": "code",
   "execution_count": 126,
   "metadata": {},
   "outputs": [
    {
     "data": {
      "text/html": [
       "<div>\n",
       "<style scoped>\n",
       "    .dataframe tbody tr th:only-of-type {\n",
       "        vertical-align: middle;\n",
       "    }\n",
       "\n",
       "    .dataframe tbody tr th {\n",
       "        vertical-align: top;\n",
       "    }\n",
       "\n",
       "    .dataframe thead th {\n",
       "        text-align: right;\n",
       "    }\n",
       "</style>\n",
       "<table border=\"1\" class=\"dataframe\">\n",
       "  <thead>\n",
       "    <tr style=\"text-align: right;\">\n",
       "      <th></th>\n",
       "      <th>countyhelper</th>\n",
       "      <th>LSTATE</th>\n",
       "      <th>NMCNTY</th>\n",
       "      <th>FIPS</th>\n",
       "      <th>LZIP</th>\n",
       "      <th>ULOCALE</th>\n",
       "      <th>Overall Rank</th>\n",
       "      <th>2022 Population</th>\n",
       "      <th>2016 Crime Rate</th>\n",
       "      <th>Unemployment</th>\n",
       "      <th>...</th>\n",
       "      <th>1p3c</th>\n",
       "      <th>1p4c</th>\n",
       "      <th>2p0c</th>\n",
       "      <th>2p1c</th>\n",
       "      <th>2p2c</th>\n",
       "      <th>2p3c</th>\n",
       "      <th>2p4c</th>\n",
       "      <th>Stu:Tea Rank</th>\n",
       "      <th>Diversity Rank (Race)</th>\n",
       "      <th>Diversity Rank (Gender)</th>\n",
       "    </tr>\n",
       "  </thead>\n",
       "  <tbody>\n",
       "    <tr>\n",
       "      <th>1</th>\n",
       "      <td>TXMcmullen County</td>\n",
       "      <td>TX</td>\n",
       "      <td>McMullen County</td>\n",
       "      <td>48311</td>\n",
       "      <td>78072</td>\n",
       "      <td>43-Rural: Remote</td>\n",
       "      <td>NaN</td>\n",
       "      <td>576</td>\n",
       "      <td>47/1000</td>\n",
       "      <td>1.81%</td>\n",
       "      <td>...</td>\n",
       "      <td>105.46%</td>\n",
       "      <td>111.95%</td>\n",
       "      <td>72.03%</td>\n",
       "      <td>90.73%</td>\n",
       "      <td>104.21%</td>\n",
       "      <td>120.05%</td>\n",
       "      <td>127.11%</td>\n",
       "      <td>3</td>\n",
       "      <td>2</td>\n",
       "      <td>87</td>\n",
       "    </tr>\n",
       "    <tr>\n",
       "      <th>2</th>\n",
       "      <td>TXTerrell County</td>\n",
       "      <td>TX</td>\n",
       "      <td>Terrell County</td>\n",
       "      <td>48443</td>\n",
       "      <td>79848</td>\n",
       "      <td>43-Rural: Remote</td>\n",
       "      <td>NaN</td>\n",
       "      <td>693</td>\n",
       "      <td>20/1000</td>\n",
       "      <td>3.54%</td>\n",
       "      <td>...</td>\n",
       "      <td>127.10%</td>\n",
       "      <td>135.84%</td>\n",
       "      <td>87.96%</td>\n",
       "      <td>110.73%</td>\n",
       "      <td>125.11%</td>\n",
       "      <td>145.91%</td>\n",
       "      <td>153.79%</td>\n",
       "      <td>12</td>\n",
       "      <td>3</td>\n",
       "      <td>47</td>\n",
       "    </tr>\n",
       "    <tr>\n",
       "      <th>7</th>\n",
       "      <td>TXCochran County</td>\n",
       "      <td>TX</td>\n",
       "      <td>Cochran County</td>\n",
       "      <td>48079</td>\n",
       "      <td>79379</td>\n",
       "      <td>43-Rural: Remote</td>\n",
       "      <td>NaN</td>\n",
       "      <td>2,526</td>\n",
       "      <td>33/1000</td>\n",
       "      <td>5.08%</td>\n",
       "      <td>...</td>\n",
       "      <td>112.29%</td>\n",
       "      <td>121.64%</td>\n",
       "      <td>79.03%</td>\n",
       "      <td>99.96%</td>\n",
       "      <td>114.19%</td>\n",
       "      <td>131.65%</td>\n",
       "      <td>140.54%</td>\n",
       "      <td>41</td>\n",
       "      <td>8</td>\n",
       "      <td>135</td>\n",
       "    </tr>\n",
       "    <tr>\n",
       "      <th>8</th>\n",
       "      <td>TXArmstrong County</td>\n",
       "      <td>TX</td>\n",
       "      <td>Armstrong County</td>\n",
       "      <td>48011</td>\n",
       "      <td>79019</td>\n",
       "      <td>42-Rural: Distant</td>\n",
       "      <td>NaN</td>\n",
       "      <td>1,850</td>\n",
       "      <td>7/1000</td>\n",
       "      <td>2.85%</td>\n",
       "      <td>...</td>\n",
       "      <td>103.99%</td>\n",
       "      <td>110.78%</td>\n",
       "      <td>63.85%</td>\n",
       "      <td>85.75%</td>\n",
       "      <td>98.54%</td>\n",
       "      <td>116.02%</td>\n",
       "      <td>122.96%</td>\n",
       "      <td>16</td>\n",
       "      <td>9</td>\n",
       "      <td>28</td>\n",
       "    </tr>\n",
       "    <tr>\n",
       "      <th>9</th>\n",
       "      <td>TXDelta County</td>\n",
       "      <td>TX</td>\n",
       "      <td>Delta County</td>\n",
       "      <td>48119</td>\n",
       "      <td>75469</td>\n",
       "      <td>43-Rural: Remote</td>\n",
       "      <td>NaN</td>\n",
       "      <td>5,406</td>\n",
       "      <td>6/1000</td>\n",
       "      <td>4.18%</td>\n",
       "      <td>...</td>\n",
       "      <td>108.26%</td>\n",
       "      <td>115.55%</td>\n",
       "      <td>74.63%</td>\n",
       "      <td>94.65%</td>\n",
       "      <td>107.74%</td>\n",
       "      <td>125.03%</td>\n",
       "      <td>132.93%</td>\n",
       "      <td>349</td>\n",
       "      <td>10</td>\n",
       "      <td>454</td>\n",
       "    </tr>\n",
       "    <tr>\n",
       "      <th>...</th>\n",
       "      <td>...</td>\n",
       "      <td>...</td>\n",
       "      <td>...</td>\n",
       "      <td>...</td>\n",
       "      <td>...</td>\n",
       "      <td>...</td>\n",
       "      <td>...</td>\n",
       "      <td>...</td>\n",
       "      <td>...</td>\n",
       "      <td>...</td>\n",
       "      <td>...</td>\n",
       "      <td>...</td>\n",
       "      <td>...</td>\n",
       "      <td>...</td>\n",
       "      <td>...</td>\n",
       "      <td>...</td>\n",
       "      <td>...</td>\n",
       "      <td>...</td>\n",
       "      <td>...</td>\n",
       "      <td>...</td>\n",
       "      <td>...</td>\n",
       "    </tr>\n",
       "    <tr>\n",
       "      <th>3119</th>\n",
       "      <td>TXTarrant County</td>\n",
       "      <td>TX</td>\n",
       "      <td>Tarrant County</td>\n",
       "      <td>48439</td>\n",
       "      <td>76118</td>\n",
       "      <td>21-Suburb: Large</td>\n",
       "      <td>NaN</td>\n",
       "      <td>2,154,595</td>\n",
       "      <td>30/1000</td>\n",
       "      <td>3.74%</td>\n",
       "      <td>...</td>\n",
       "      <td>103.15%</td>\n",
       "      <td>108.74%</td>\n",
       "      <td>62.17%</td>\n",
       "      <td>83.12%</td>\n",
       "      <td>95.65%</td>\n",
       "      <td>113.37%</td>\n",
       "      <td>120.02%</td>\n",
       "      <td>3036</td>\n",
       "      <td>3120</td>\n",
       "      <td>3125</td>\n",
       "    </tr>\n",
       "    <tr>\n",
       "      <th>3122</th>\n",
       "      <td>TXBexar County</td>\n",
       "      <td>TX</td>\n",
       "      <td>Bexar County</td>\n",
       "      <td>48029</td>\n",
       "      <td>78109</td>\n",
       "      <td>21-Suburb: Large</td>\n",
       "      <td>NaN</td>\n",
       "      <td>2,059,530</td>\n",
       "      <td>50/1000</td>\n",
       "      <td>3.84%</td>\n",
       "      <td>...</td>\n",
       "      <td>109.29%</td>\n",
       "      <td>115.61%</td>\n",
       "      <td>66.44%</td>\n",
       "      <td>90.25%</td>\n",
       "      <td>104.20%</td>\n",
       "      <td>122.00%</td>\n",
       "      <td>128.41%</td>\n",
       "      <td>3035</td>\n",
       "      <td>3123</td>\n",
       "      <td>3122</td>\n",
       "    </tr>\n",
       "    <tr>\n",
       "      <th>3123</th>\n",
       "      <td>TXHidalgo County</td>\n",
       "      <td>TX</td>\n",
       "      <td>Hidalgo County</td>\n",
       "      <td>48215</td>\n",
       "      <td>78539</td>\n",
       "      <td>12-City: Mid-size</td>\n",
       "      <td>NaN</td>\n",
       "      <td>888,367</td>\n",
       "      <td>30/1000</td>\n",
       "      <td>6.93%</td>\n",
       "      <td>...</td>\n",
       "      <td>138.74%</td>\n",
       "      <td>148.26%</td>\n",
       "      <td>90.28%</td>\n",
       "      <td>119.83%</td>\n",
       "      <td>138.05%</td>\n",
       "      <td>160.55%</td>\n",
       "      <td>169.30%</td>\n",
       "      <td>3020</td>\n",
       "      <td>3124</td>\n",
       "      <td>3104</td>\n",
       "    </tr>\n",
       "    <tr>\n",
       "      <th>3124</th>\n",
       "      <td>TXDallas County</td>\n",
       "      <td>TX</td>\n",
       "      <td>Dallas County</td>\n",
       "      <td>48113</td>\n",
       "      <td>75146</td>\n",
       "      <td>41-Rural: Fringe</td>\n",
       "      <td>NaN</td>\n",
       "      <td>2,600,840</td>\n",
       "      <td>36/1000</td>\n",
       "      <td>3.85%</td>\n",
       "      <td>...</td>\n",
       "      <td>121.22%</td>\n",
       "      <td>128.02%</td>\n",
       "      <td>73.80%</td>\n",
       "      <td>98.57%</td>\n",
       "      <td>113.73%</td>\n",
       "      <td>133.57%</td>\n",
       "      <td>141.59%</td>\n",
       "      <td>3041</td>\n",
       "      <td>3125</td>\n",
       "      <td>3129</td>\n",
       "    </tr>\n",
       "    <tr>\n",
       "      <th>3131</th>\n",
       "      <td>TXHarris County</td>\n",
       "      <td>TX</td>\n",
       "      <td>Harris County</td>\n",
       "      <td>48201</td>\n",
       "      <td>77338</td>\n",
       "      <td>21-Suburb: Large</td>\n",
       "      <td>NaN</td>\n",
       "      <td>4,780,913</td>\n",
       "      <td>41/1000</td>\n",
       "      <td>4.41%</td>\n",
       "      <td>...</td>\n",
       "      <td>107.78%</td>\n",
       "      <td>113.98%</td>\n",
       "      <td>65.82%</td>\n",
       "      <td>87.55%</td>\n",
       "      <td>101.09%</td>\n",
       "      <td>119.65%</td>\n",
       "      <td>126.92%</td>\n",
       "      <td>3046</td>\n",
       "      <td>3132</td>\n",
       "      <td>3131</td>\n",
       "    </tr>\n",
       "  </tbody>\n",
       "</table>\n",
       "<p>253 rows × 34 columns</p>\n",
       "</div>"
      ],
      "text/plain": [
       "            countyhelper LSTATE            NMCNTY   FIPS   LZIP  \\\n",
       "1      TXMcmullen County     TX   McMullen County  48311  78072   \n",
       "2       TXTerrell County     TX    Terrell County  48443  79848   \n",
       "7       TXCochran County     TX    Cochran County  48079  79379   \n",
       "8     TXArmstrong County     TX  Armstrong County  48011  79019   \n",
       "9         TXDelta County     TX      Delta County  48119  75469   \n",
       "...                  ...    ...               ...    ...    ...   \n",
       "3119    TXTarrant County     TX    Tarrant County  48439  76118   \n",
       "3122      TXBexar County     TX      Bexar County  48029  78109   \n",
       "3123    TXHidalgo County     TX    Hidalgo County  48215  78539   \n",
       "3124     TXDallas County     TX     Dallas County  48113  75146   \n",
       "3131     TXHarris County     TX     Harris County  48201  77338   \n",
       "\n",
       "                ULOCALE  Overall Rank 2022 Population 2016 Crime Rate  \\\n",
       "1      43-Rural: Remote           NaN             576         47/1000   \n",
       "2      43-Rural: Remote           NaN             693         20/1000   \n",
       "7      43-Rural: Remote           NaN           2,526         33/1000   \n",
       "8     42-Rural: Distant           NaN           1,850          7/1000   \n",
       "9      43-Rural: Remote           NaN           5,406          6/1000   \n",
       "...                 ...           ...             ...             ...   \n",
       "3119   21-Suburb: Large           NaN       2,154,595         30/1000   \n",
       "3122   21-Suburb: Large           NaN       2,059,530         50/1000   \n",
       "3123  12-City: Mid-size           NaN         888,367         30/1000   \n",
       "3124   41-Rural: Fringe           NaN       2,600,840         36/1000   \n",
       "3131   21-Suburb: Large           NaN       4,780,913         41/1000   \n",
       "\n",
       "     Unemployment  ...     1p3c     1p4c    2p0c     2p1c     2p2c     2p3c  \\\n",
       "1           1.81%  ...  105.46%  111.95%  72.03%   90.73%  104.21%  120.05%   \n",
       "2           3.54%  ...  127.10%  135.84%  87.96%  110.73%  125.11%  145.91%   \n",
       "7           5.08%  ...  112.29%  121.64%  79.03%   99.96%  114.19%  131.65%   \n",
       "8           2.85%  ...  103.99%  110.78%  63.85%   85.75%   98.54%  116.02%   \n",
       "9           4.18%  ...  108.26%  115.55%  74.63%   94.65%  107.74%  125.03%   \n",
       "...           ...  ...      ...      ...     ...      ...      ...      ...   \n",
       "3119        3.74%  ...  103.15%  108.74%  62.17%   83.12%   95.65%  113.37%   \n",
       "3122        3.84%  ...  109.29%  115.61%  66.44%   90.25%  104.20%  122.00%   \n",
       "3123        6.93%  ...  138.74%  148.26%  90.28%  119.83%  138.05%  160.55%   \n",
       "3124        3.85%  ...  121.22%  128.02%  73.80%   98.57%  113.73%  133.57%   \n",
       "3131        4.41%  ...  107.78%  113.98%  65.82%   87.55%  101.09%  119.65%   \n",
       "\n",
       "         2p4c Stu:Tea Rank Diversity Rank (Race) Diversity Rank (Gender)  \n",
       "1     127.11%            3                     2                      87  \n",
       "2     153.79%           12                     3                      47  \n",
       "7     140.54%           41                     8                     135  \n",
       "8     122.96%           16                     9                      28  \n",
       "9     132.93%          349                    10                     454  \n",
       "...       ...          ...                   ...                     ...  \n",
       "3119  120.02%         3036                  3120                    3125  \n",
       "3122  128.41%         3035                  3123                    3122  \n",
       "3123  169.30%         3020                  3124                    3104  \n",
       "3124  141.59%         3041                  3125                    3129  \n",
       "3131  126.92%         3046                  3132                    3131  \n",
       "\n",
       "[253 rows x 34 columns]"
      ]
     },
     "execution_count": 126,
     "metadata": {},
     "output_type": "execute_result"
    }
   ],
   "source": [
    "quality_Texas = Texas_quality[Texas_quality['LSTATE'].str.contains('TX', case=False, na=False)]\n",
    "quality_Texas['ULOCALE'].unique()\n",
    "\n",
    "quality_Texas"
   ]
  },
  {
   "cell_type": "code",
   "execution_count": null,
   "metadata": {},
   "outputs": [],
   "source": []
  },
  {
   "cell_type": "code",
   "execution_count": 127,
   "metadata": {},
   "outputs": [
    {
     "name": "stderr",
     "output_type": "stream",
     "text": [
      "/var/folders/m8/1fpvkz014031zsf69k406s0w0000gn/T/ipykernel_97658/299530786.py:11: SettingWithCopyWarning: \n",
      "A value is trying to be set on a copy of a slice from a DataFrame.\n",
      "Try using .loc[row_indexer,col_indexer] = value instead\n",
      "\n",
      "See the caveats in the documentation: https://pandas.pydata.org/pandas-docs/stable/user_guide/indexing.html#returning-a-view-versus-a-copy\n",
      "  quality_Texas['Cost of Living'] = quality_Texas['Cost of Living'].replace({r'[,\\$]': ''}, regex=True).astype(float)\n",
      "/var/folders/m8/1fpvkz014031zsf69k406s0w0000gn/T/ipykernel_97658/299530786.py:12: SettingWithCopyWarning: \n",
      "A value is trying to be set on a copy of a slice from a DataFrame.\n",
      "Try using .loc[row_indexer,col_indexer] = value instead\n",
      "\n",
      "See the caveats in the documentation: https://pandas.pydata.org/pandas-docs/stable/user_guide/indexing.html#returning-a-view-versus-a-copy\n",
      "  quality_Texas['2022 Median Income'] = quality_Texas['2022 Median Income'].replace({r'[,\\$]': ''}, regex=True).astype(float)\n",
      "/var/folders/m8/1fpvkz014031zsf69k406s0w0000gn/T/ipykernel_97658/299530786.py:13: SettingWithCopyWarning: \n",
      "A value is trying to be set on a copy of a slice from a DataFrame.\n",
      "Try using .loc[row_indexer,col_indexer] = value instead\n",
      "\n",
      "See the caveats in the documentation: https://pandas.pydata.org/pandas-docs/stable/user_guide/indexing.html#returning-a-view-versus-a-copy\n",
      "  quality_Texas['Unemployment'] = quality_Texas['Unemployment'].replace({r'[,\\%]': ''}, regex=True).astype(float)\n",
      "/var/folders/m8/1fpvkz014031zsf69k406s0w0000gn/T/ipykernel_97658/299530786.py:14: SettingWithCopyWarning: \n",
      "A value is trying to be set on a copy of a slice from a DataFrame.\n",
      "Try using .loc[row_indexer,col_indexer] = value instead\n",
      "\n",
      "See the caveats in the documentation: https://pandas.pydata.org/pandas-docs/stable/user_guide/indexing.html#returning-a-view-versus-a-copy\n",
      "  quality_Texas['ULOCALE'] = quality_Texas['ULOCALE'].str.replace(r'[\\d\\-]+', '', regex=True)\n",
      "/var/folders/m8/1fpvkz014031zsf69k406s0w0000gn/T/ipykernel_97658/299530786.py:15: SettingWithCopyWarning: \n",
      "A value is trying to be set on a copy of a slice from a DataFrame.\n",
      "Try using .loc[row_indexer,col_indexer] = value instead\n",
      "\n",
      "See the caveats in the documentation: https://pandas.pydata.org/pandas-docs/stable/user_guide/indexing.html#returning-a-view-versus-a-copy\n",
      "  quality_Texas['ULOCALE'] = quality_Texas['ULOCALE'].str.strip()\n"
     ]
    },
    {
     "data": {
      "text/html": [
       "<div>\n",
       "<style scoped>\n",
       "    .dataframe tbody tr th:only-of-type {\n",
       "        vertical-align: middle;\n",
       "    }\n",
       "\n",
       "    .dataframe tbody tr th {\n",
       "        vertical-align: top;\n",
       "    }\n",
       "\n",
       "    .dataframe thead th {\n",
       "        text-align: right;\n",
       "    }\n",
       "</style>\n",
       "<table border=\"1\" class=\"dataframe\">\n",
       "  <thead>\n",
       "    <tr style=\"text-align: right;\">\n",
       "      <th></th>\n",
       "      <th>Cost of Living</th>\n",
       "      <th>Unemployment</th>\n",
       "      <th>2022 Median Income</th>\n",
       "      <th>WaterQualityVPV</th>\n",
       "      <th>Diversity Rank (Race)</th>\n",
       "      <th>Diversity Rank (Gender)</th>\n",
       "      <th>ULOCALE</th>\n",
       "    </tr>\n",
       "  </thead>\n",
       "  <tbody>\n",
       "    <tr>\n",
       "      <th>1</th>\n",
       "      <td>63913.28</td>\n",
       "      <td>1.81</td>\n",
       "      <td>67513.81</td>\n",
       "      <td>2</td>\n",
       "      <td>2</td>\n",
       "      <td>87</td>\n",
       "      <td>Rural: Remote</td>\n",
       "    </tr>\n",
       "    <tr>\n",
       "      <th>2</th>\n",
       "      <td>64361.02</td>\n",
       "      <td>3.54</td>\n",
       "      <td>55946.62</td>\n",
       "      <td>3</td>\n",
       "      <td>3</td>\n",
       "      <td>47</td>\n",
       "      <td>Rural: Remote</td>\n",
       "    </tr>\n",
       "    <tr>\n",
       "      <th>7</th>\n",
       "      <td>61721.15</td>\n",
       "      <td>5.08</td>\n",
       "      <td>59858.82</td>\n",
       "      <td>4</td>\n",
       "      <td>8</td>\n",
       "      <td>135</td>\n",
       "      <td>Rural: Remote</td>\n",
       "    </tr>\n",
       "    <tr>\n",
       "      <th>8</th>\n",
       "      <td>73725.97</td>\n",
       "      <td>2.85</td>\n",
       "      <td>81611.11</td>\n",
       "      <td>1</td>\n",
       "      <td>9</td>\n",
       "      <td>28</td>\n",
       "      <td>Rural: Distant</td>\n",
       "    </tr>\n",
       "    <tr>\n",
       "      <th>9</th>\n",
       "      <td>62084.03</td>\n",
       "      <td>4.18</td>\n",
       "      <td>63549.24</td>\n",
       "      <td>-1</td>\n",
       "      <td>10</td>\n",
       "      <td>454</td>\n",
       "      <td>Rural: Remote</td>\n",
       "    </tr>\n",
       "    <tr>\n",
       "      <th>...</th>\n",
       "      <td>...</td>\n",
       "      <td>...</td>\n",
       "      <td>...</td>\n",
       "      <td>...</td>\n",
       "      <td>...</td>\n",
       "      <td>...</td>\n",
       "      <td>...</td>\n",
       "    </tr>\n",
       "    <tr>\n",
       "      <th>3119</th>\n",
       "      <td>72592.42</td>\n",
       "      <td>3.74</td>\n",
       "      <td>82001.30</td>\n",
       "      <td>5</td>\n",
       "      <td>3120</td>\n",
       "      <td>3125</td>\n",
       "      <td>Suburb: Large</td>\n",
       "    </tr>\n",
       "    <tr>\n",
       "      <th>3122</th>\n",
       "      <td>66248.04</td>\n",
       "      <td>3.84</td>\n",
       "      <td>69862.16</td>\n",
       "      <td>1</td>\n",
       "      <td>3123</td>\n",
       "      <td>3122</td>\n",
       "      <td>Suburb: Large</td>\n",
       "    </tr>\n",
       "    <tr>\n",
       "      <th>3123</th>\n",
       "      <td>56645.44</td>\n",
       "      <td>6.93</td>\n",
       "      <td>45446.29</td>\n",
       "      <td>13</td>\n",
       "      <td>3124</td>\n",
       "      <td>3104</td>\n",
       "      <td>City: Midsize</td>\n",
       "    </tr>\n",
       "    <tr>\n",
       "      <th>3124</th>\n",
       "      <td>72227.78</td>\n",
       "      <td>3.85</td>\n",
       "      <td>68960.61</td>\n",
       "      <td>1</td>\n",
       "      <td>3125</td>\n",
       "      <td>3129</td>\n",
       "      <td>Rural: Fringe</td>\n",
       "    </tr>\n",
       "    <tr>\n",
       "      <th>3131</th>\n",
       "      <td>68223.99</td>\n",
       "      <td>4.41</td>\n",
       "      <td>73169.57</td>\n",
       "      <td>2</td>\n",
       "      <td>3132</td>\n",
       "      <td>3131</td>\n",
       "      <td>Suburb: Large</td>\n",
       "    </tr>\n",
       "  </tbody>\n",
       "</table>\n",
       "<p>253 rows × 7 columns</p>\n",
       "</div>"
      ],
      "text/plain": [
       "      Cost of Living  Unemployment  2022 Median Income  WaterQualityVPV  \\\n",
       "1           63913.28          1.81            67513.81                2   \n",
       "2           64361.02          3.54            55946.62                3   \n",
       "7           61721.15          5.08            59858.82                4   \n",
       "8           73725.97          2.85            81611.11                1   \n",
       "9           62084.03          4.18            63549.24               -1   \n",
       "...              ...           ...                 ...              ...   \n",
       "3119        72592.42          3.74            82001.30                5   \n",
       "3122        66248.04          3.84            69862.16                1   \n",
       "3123        56645.44          6.93            45446.29               13   \n",
       "3124        72227.78          3.85            68960.61                1   \n",
       "3131        68223.99          4.41            73169.57                2   \n",
       "\n",
       "      Diversity Rank (Race)  Diversity Rank (Gender)         ULOCALE  \n",
       "1                         2                       87   Rural: Remote  \n",
       "2                         3                       47   Rural: Remote  \n",
       "7                         8                      135   Rural: Remote  \n",
       "8                         9                       28  Rural: Distant  \n",
       "9                        10                      454   Rural: Remote  \n",
       "...                     ...                      ...             ...  \n",
       "3119                   3120                     3125   Suburb: Large  \n",
       "3122                   3123                     3122   Suburb: Large  \n",
       "3123                   3124                     3104   City: Midsize  \n",
       "3124                   3125                     3129   Rural: Fringe  \n",
       "3131                   3132                     3131   Suburb: Large  \n",
       "\n",
       "[253 rows x 7 columns]"
      ]
     },
     "execution_count": 127,
     "metadata": {},
     "output_type": "execute_result"
    }
   ],
   "source": [
    "features = [\n",
    "    'Cost of Living',\n",
    "    'Unemployment',\n",
    "    '2022 Median Income',\n",
    "    'WaterQualityVPV',\n",
    "    'Diversity Rank (Race)',\n",
    "    'Diversity Rank (Gender)',\n",
    "    'ULOCALE'\n",
    "]\n",
    "\n",
    "quality_Texas['Cost of Living'] = quality_Texas['Cost of Living'].replace({r'[,\\$]': ''}, regex=True).astype(float)\n",
    "quality_Texas['2022 Median Income'] = quality_Texas['2022 Median Income'].replace({r'[,\\$]': ''}, regex=True).astype(float)\n",
    "quality_Texas['Unemployment'] = quality_Texas['Unemployment'].replace({r'[,\\%]': ''}, regex=True).astype(float)\n",
    "quality_Texas['ULOCALE'] = quality_Texas['ULOCALE'].str.replace(r'[\\d\\-]+', '', regex=True)\n",
    "quality_Texas['ULOCALE'] = quality_Texas['ULOCALE'].str.strip()\n",
    "\n",
    "\n",
    "\n",
    "X = quality_Texas[features]\n",
    "\n",
    "\n",
    "X\n"
   ]
  },
  {
   "cell_type": "code",
   "execution_count": null,
   "metadata": {},
   "outputs": [],
   "source": []
  },
  {
   "cell_type": "code",
   "execution_count": null,
   "metadata": {},
   "outputs": [],
   "source": []
  },
  {
   "cell_type": "code",
   "execution_count": 128,
   "metadata": {},
   "outputs": [
    {
     "data": {
      "text/plain": [
       "array(['Rural: Remote', 'Rural: Distant', 'Town: Remote', 'Town: Distant',\n",
       "       'Rural: Fringe', 'Town: Fringe', 'Suburb: Large', 'City: Small',\n",
       "       'Suburb: Midsize', 'City: Midsize', 'City: Large'], dtype=object)"
      ]
     },
     "execution_count": 128,
     "metadata": {},
     "output_type": "execute_result"
    }
   ],
   "source": [
    "X['ULOCALE'].unique()"
   ]
  },
  {
   "cell_type": "code",
   "execution_count": 129,
   "metadata": {},
   "outputs": [
    {
     "name": "stderr",
     "output_type": "stream",
     "text": [
      "/var/folders/m8/1fpvkz014031zsf69k406s0w0000gn/T/ipykernel_97658/60326765.py:10: SettingWithCopyWarning: \n",
      "A value is trying to be set on a copy of a slice from a DataFrame.\n",
      "Try using .loc[row_indexer,col_indexer] = value instead\n",
      "\n",
      "See the caveats in the documentation: https://pandas.pydata.org/pandas-docs/stable/user_guide/indexing.html#returning-a-view-versus-a-copy\n",
      "  X['ULOCALE'] = ordinal_encoder.fit_transform(X[['ULOCALE']])\n"
     ]
    },
    {
     "data": {
      "text/html": [
       "<div>\n",
       "<style scoped>\n",
       "    .dataframe tbody tr th:only-of-type {\n",
       "        vertical-align: middle;\n",
       "    }\n",
       "\n",
       "    .dataframe tbody tr th {\n",
       "        vertical-align: top;\n",
       "    }\n",
       "\n",
       "    .dataframe thead th {\n",
       "        text-align: right;\n",
       "    }\n",
       "</style>\n",
       "<table border=\"1\" class=\"dataframe\">\n",
       "  <thead>\n",
       "    <tr style=\"text-align: right;\">\n",
       "      <th></th>\n",
       "      <th>ULOCALE</th>\n",
       "      <th>Cost of Living</th>\n",
       "      <th>Unemployment</th>\n",
       "      <th>2022 Median Income</th>\n",
       "      <th>WaterQualityVPV</th>\n",
       "      <th>Diversity Rank (Race)</th>\n",
       "      <th>Diversity Rank (Gender)</th>\n",
       "    </tr>\n",
       "  </thead>\n",
       "  <tbody>\n",
       "    <tr>\n",
       "      <th>0</th>\n",
       "      <td>5.0</td>\n",
       "      <td>63913.28</td>\n",
       "      <td>1.81</td>\n",
       "      <td>67513.81</td>\n",
       "      <td>2.0</td>\n",
       "      <td>2.0</td>\n",
       "      <td>87.0</td>\n",
       "    </tr>\n",
       "    <tr>\n",
       "      <th>1</th>\n",
       "      <td>5.0</td>\n",
       "      <td>64361.02</td>\n",
       "      <td>3.54</td>\n",
       "      <td>55946.62</td>\n",
       "      <td>3.0</td>\n",
       "      <td>3.0</td>\n",
       "      <td>47.0</td>\n",
       "    </tr>\n",
       "    <tr>\n",
       "      <th>2</th>\n",
       "      <td>5.0</td>\n",
       "      <td>61721.15</td>\n",
       "      <td>5.08</td>\n",
       "      <td>59858.82</td>\n",
       "      <td>4.0</td>\n",
       "      <td>8.0</td>\n",
       "      <td>135.0</td>\n",
       "    </tr>\n",
       "    <tr>\n",
       "      <th>3</th>\n",
       "      <td>3.0</td>\n",
       "      <td>73725.97</td>\n",
       "      <td>2.85</td>\n",
       "      <td>81611.11</td>\n",
       "      <td>1.0</td>\n",
       "      <td>9.0</td>\n",
       "      <td>28.0</td>\n",
       "    </tr>\n",
       "    <tr>\n",
       "      <th>4</th>\n",
       "      <td>5.0</td>\n",
       "      <td>62084.03</td>\n",
       "      <td>4.18</td>\n",
       "      <td>63549.24</td>\n",
       "      <td>-1.0</td>\n",
       "      <td>10.0</td>\n",
       "      <td>454.0</td>\n",
       "    </tr>\n",
       "    <tr>\n",
       "      <th>...</th>\n",
       "      <td>...</td>\n",
       "      <td>...</td>\n",
       "      <td>...</td>\n",
       "      <td>...</td>\n",
       "      <td>...</td>\n",
       "      <td>...</td>\n",
       "      <td>...</td>\n",
       "    </tr>\n",
       "    <tr>\n",
       "      <th>248</th>\n",
       "      <td>6.0</td>\n",
       "      <td>72592.42</td>\n",
       "      <td>3.74</td>\n",
       "      <td>82001.30</td>\n",
       "      <td>5.0</td>\n",
       "      <td>3120.0</td>\n",
       "      <td>3125.0</td>\n",
       "    </tr>\n",
       "    <tr>\n",
       "      <th>249</th>\n",
       "      <td>6.0</td>\n",
       "      <td>66248.04</td>\n",
       "      <td>3.84</td>\n",
       "      <td>69862.16</td>\n",
       "      <td>1.0</td>\n",
       "      <td>3123.0</td>\n",
       "      <td>3122.0</td>\n",
       "    </tr>\n",
       "    <tr>\n",
       "      <th>250</th>\n",
       "      <td>1.0</td>\n",
       "      <td>56645.44</td>\n",
       "      <td>6.93</td>\n",
       "      <td>45446.29</td>\n",
       "      <td>13.0</td>\n",
       "      <td>3124.0</td>\n",
       "      <td>3104.0</td>\n",
       "    </tr>\n",
       "    <tr>\n",
       "      <th>251</th>\n",
       "      <td>4.0</td>\n",
       "      <td>72227.78</td>\n",
       "      <td>3.85</td>\n",
       "      <td>68960.61</td>\n",
       "      <td>1.0</td>\n",
       "      <td>3125.0</td>\n",
       "      <td>3129.0</td>\n",
       "    </tr>\n",
       "    <tr>\n",
       "      <th>252</th>\n",
       "      <td>6.0</td>\n",
       "      <td>68223.99</td>\n",
       "      <td>4.41</td>\n",
       "      <td>73169.57</td>\n",
       "      <td>2.0</td>\n",
       "      <td>3132.0</td>\n",
       "      <td>3131.0</td>\n",
       "    </tr>\n",
       "  </tbody>\n",
       "</table>\n",
       "<p>253 rows × 7 columns</p>\n",
       "</div>"
      ],
      "text/plain": [
       "     ULOCALE  Cost of Living  Unemployment  2022 Median Income  \\\n",
       "0        5.0        63913.28          1.81            67513.81   \n",
       "1        5.0        64361.02          3.54            55946.62   \n",
       "2        5.0        61721.15          5.08            59858.82   \n",
       "3        3.0        73725.97          2.85            81611.11   \n",
       "4        5.0        62084.03          4.18            63549.24   \n",
       "..       ...             ...           ...                 ...   \n",
       "248      6.0        72592.42          3.74            82001.30   \n",
       "249      6.0        66248.04          3.84            69862.16   \n",
       "250      1.0        56645.44          6.93            45446.29   \n",
       "251      4.0        72227.78          3.85            68960.61   \n",
       "252      6.0        68223.99          4.41            73169.57   \n",
       "\n",
       "     WaterQualityVPV  Diversity Rank (Race)  Diversity Rank (Gender)  \n",
       "0                2.0                    2.0                     87.0  \n",
       "1                3.0                    3.0                     47.0  \n",
       "2                4.0                    8.0                    135.0  \n",
       "3                1.0                    9.0                     28.0  \n",
       "4               -1.0                   10.0                    454.0  \n",
       "..               ...                    ...                      ...  \n",
       "248              5.0                 3120.0                   3125.0  \n",
       "249              1.0                 3123.0                   3122.0  \n",
       "250             13.0                 3124.0                   3104.0  \n",
       "251              1.0                 3125.0                   3129.0  \n",
       "252              2.0                 3132.0                   3131.0  \n",
       "\n",
       "[253 rows x 7 columns]"
      ]
     },
     "execution_count": 129,
     "metadata": {},
     "output_type": "execute_result"
    }
   ],
   "source": [
    "from sklearn.preprocessing import OrdinalEncoder\n",
    "from sklearn.compose import ColumnTransformer\n",
    "\n",
    "\n",
    "location = ['Rural: Remote', 'Rural: Distant', 'Rural: Fringe', 'Town: Remote', 'Town: Distant', 'Town: Fringe', 'Suburb: Midsize', 'Suburb: Large', 'City: Small', 'City: Midsize', 'City: Large']\n",
    "ord_features = ['ULOCALE']\n",
    "ordEnc = OrdinalEncoder(categories = [location])\n",
    "\n",
    "ordinal_encoder = OrdinalEncoder()\n",
    "X['ULOCALE'] = ordinal_encoder.fit_transform(X[['ULOCALE']])\n",
    "\n",
    "coltrans = ColumnTransformer(\n",
    "    transformers=[\n",
    "        (\"ord\", ordinal_encoder, ord_features),   \n",
    "        ],\n",
    "    remainder = 'passthrough',\n",
    "    verbose_feature_names_out=False)\n",
    "\n",
    "X_trans = coltrans.fit_transform(X)\n",
    "\n",
    "\n",
    "new_feature_names = coltrans.get_feature_names_out()\n",
    "\n",
    "Texas_encoded = pd.DataFrame(X_trans, columns = new_feature_names)\n",
    "Texas_encoded\n"
   ]
  },
  {
   "cell_type": "code",
   "execution_count": null,
   "metadata": {},
   "outputs": [],
   "source": []
  },
  {
   "cell_type": "code",
   "execution_count": 172,
   "metadata": {},
   "outputs": [],
   "source": [
    "new_features = [\n",
    "    '2022 Median Income', \n",
    "    'Cost of Living', \n",
    "    'Unemployment', \n",
    "    'ULOCALE',\n",
    "    'WaterQualityVPV',\n",
    "    'Diversity Rank (Gender)',\n",
    "    'Diversity Rank (Race)',\n",
    "]\n",
    "X_living = Texas_encoded[['2022 Median Income', 'Cost of Living', 'Unemployment', 'ULOCALE', 'WaterQualityVPV', 'Diversity Rank (Gender)', 'Diversity Rank (Race)']].copy()\n",
    "\n",
    "# Invert the features where lower is better\n",
    "X_living['Cost of Living'] = -X_living['Cost of Living']\n",
    "X_living['Unemployment Rate'] = -X_living['Unemployment']\n",
    "X_living['Diversity Rank (Gender)'] = -X_living['Diversity Rank (Gender)']\n",
    "X_living['Diversity Rank (Race)'] = -X_living['Diversity Rank (Race)']\n",
    "\n",
    "\n",
    "X = X_living[new_features]\n",
    "ss = StandardScaler()\n",
    "X_scaled = ss.fit_transform(X)\n",
    "\n",
    "\n"
   ]
  },
  {
   "cell_type": "code",
   "execution_count": 173,
   "metadata": {},
   "outputs": [
    {
     "data": {
      "image/png": "[encoded data removed]",
      "text/plain": [
       "<Figure size 400x2000 with 7 Axes>"
      ]
     },
     "metadata": {},
     "output_type": "display_data"
    }
   ],
   "source": [
    "from sklearn.cluster import KMeans\n",
    "from sklearn.metrics import silhouette_score\n",
    "import matplotlib.pyplot as plt\n",
    "import numpy as np\n",
    "\n",
    "silhouette_scores = []\n",
    "n_clusters = [2, 3, 4, 5, 6, 7, 8]  \n",
    "\n",
    "fig, ax = plt.subplots(len(n_clusters), 1, figsize=(4, 20))\n",
    "\n",
    "for k, nc in enumerate(n_clusters):\n",
    "    km = KMeans(n_clusters=nc, random_state=42)\n",
    "    km.fit(X_scaled)  \n",
    "    labels = km.labels_\n",
    "    centroids = km.cluster_centers_\n",
    "    score = silhouette_score(X_scaled, labels)\n",
    "    silhouette_scores.append(score)\n",
    "    \n",
    "    ax[k].scatter(X_scaled[:, 0], X_scaled[:, 1], c=labels)\n",
    "    ax[k].plot(centroids[:, 0], centroids[:, 1], 'rx')\n",
    "    ax[k].set_title(f'Silhouette Score: {score:.3f}')\n",
    "    \n",
    "plt.tight_layout()\n",
    "plt.show()"
   ]
  },
  {
   "cell_type": "code",
   "execution_count": null,
   "metadata": {},
   "outputs": [],
   "source": []
  },
  {
   "cell_type": "code",
   "execution_count": null,
   "metadata": {},
   "outputs": [],
   "source": []
  },
  {
   "cell_type": "code",
   "execution_count": 164,
   "metadata": {},
   "outputs": [
    {
     "data": {
      "text/plain": [
       "array([7, 6, 6, 7, 6, 7, 6, 6, 6, 0, 6, 6, 2, 2, 6, 7, 6, 6, 2, 6, 4, 7,\n",
       "       7, 6, 6, 7, 0, 7, 7, 7, 6, 6, 7, 6, 6, 6, 2, 6, 6, 6, 6, 6, 7, 2,\n",
       "       2, 0, 2, 6, 2, 7, 6, 6, 0, 7, 4, 7, 4, 2, 6, 2, 6, 2, 6, 6, 7, 2,\n",
       "       2, 7, 2, 6, 7, 6, 4, 2, 6, 7, 6, 6, 7, 4, 6, 6, 2, 4, 6, 6, 2, 0,\n",
       "       0, 2, 2, 2, 6, 6, 6, 6, 7, 4, 6, 6, 2, 7, 0, 7, 7, 7, 4, 6, 7, 3,\n",
       "       6, 6, 6, 2, 2, 2, 7, 6, 6, 6, 4, 0, 6, 3, 4, 6, 2, 4, 4, 2, 2, 6,\n",
       "       2, 3, 6, 5, 2, 2, 2, 2, 3, 3, 3, 0, 0, 5, 5, 3, 6, 3, 2, 2, 6, 2,\n",
       "       3, 3, 6, 0, 6, 5, 7, 5, 4, 1, 3, 5, 3, 6, 5, 3, 3, 1, 6, 3, 1, 0,\n",
       "       3, 1, 5, 3, 3, 3, 3, 4, 5, 5, 5, 5, 1, 3, 5, 3, 5, 5, 3, 5, 3, 5,\n",
       "       5, 0, 3, 4, 5, 5, 1, 1, 5, 5, 3, 3, 5, 1, 5, 3, 5, 3, 1, 3, 3, 1,\n",
       "       0, 5, 1, 1, 5, 0, 1, 1, 1, 3, 1, 3, 1, 1, 3, 3, 4, 5, 1, 3, 1, 1,\n",
       "       3, 1, 1, 1, 3, 3, 1, 3, 3, 3, 3], dtype=int32)"
      ]
     },
     "execution_count": 164,
     "metadata": {},
     "output_type": "execute_result"
    }
   ],
   "source": [
    "labels"
   ]
  },
  {
   "cell_type": "code",
   "execution_count": 178,
   "metadata": {},
   "outputs": [
    {
     "data": {
      "image/png": "[encoded data removed]",
      "text/plain": [
       "<Figure size 1000x600 with 1 Axes>"
      ]
     },
     "metadata": {},
     "output_type": "display_data"
    }
   ],
   "source": [
    "kmeans = KMeans(n_clusters=2, random_state=42)\n",
    "kmeans.fit(X_scaled)\n",
    "\n",
    "labels = kmeans.labels_\n",
    "\n",
    "plt.figure(figsize=(10, 6))\n",
    "plt.scatter(X_scaled[:, 0], X_scaled[:, 1], c=labels, cmap='viridis', s=50)\n",
    "plt.scatter(kmeans.cluster_centers_[:, 0], kmeans.cluster_centers_[:, 1], c='red', marker='x', s=200, label='Centroids')\n",
    "plt.title('KMeans Clustering with 2 Clusters')\n",
    "plt.xlabel('Feature 1')\n",
    "plt.ylabel('Feature 2')\n",
    "plt.legend()\n",
    "plt.show()\n"
   ]
  },
  {
   "cell_type": "code",
   "execution_count": null,
   "metadata": {},
   "outputs": [],
   "source": []
  },
  {
   "cell_type": "code",
   "execution_count": null,
   "metadata": {},
   "outputs": [],
   "source": []
  },
  {
   "cell_type": "code",
   "execution_count": null,
   "metadata": {},
   "outputs": [],
   "source": []
  },
  {
   "cell_type": "code",
   "execution_count": 179,
   "metadata": {},
   "outputs": [
    {
     "data": {
      "image/png": "[encoded data removed]",
      "text/plain": [
       "<Figure size 1000x600 with 1 Axes>"
      ]
     },
     "metadata": {},
     "output_type": "display_data"
    },
    {
     "data": {
      "text/html": [
       "<div>\n",
       "<style scoped>\n",
       "    .dataframe tbody tr th:only-of-type {\n",
       "        vertical-align: middle;\n",
       "    }\n",
       "\n",
       "    .dataframe tbody tr th {\n",
       "        vertical-align: top;\n",
       "    }\n",
       "\n",
       "    .dataframe thead th {\n",
       "        text-align: right;\n",
       "    }\n",
       "</style>\n",
       "<table border=\"1\" class=\"dataframe\">\n",
       "  <thead>\n",
       "    <tr style=\"text-align: right;\">\n",
       "      <th></th>\n",
       "      <th>NMCNTY</th>\n",
       "      <th>Cluster</th>\n",
       "    </tr>\n",
       "  </thead>\n",
       "  <tbody>\n",
       "    <tr>\n",
       "      <th>1</th>\n",
       "      <td>McMullen County</td>\n",
       "      <td>0</td>\n",
       "    </tr>\n",
       "    <tr>\n",
       "      <th>1120</th>\n",
       "      <td>Yoakum County</td>\n",
       "      <td>0</td>\n",
       "    </tr>\n",
       "    <tr>\n",
       "      <th>1127</th>\n",
       "      <td>Gaines County</td>\n",
       "      <td>0</td>\n",
       "    </tr>\n",
       "    <tr>\n",
       "      <th>1141</th>\n",
       "      <td>Palo Pinto County</td>\n",
       "      <td>0</td>\n",
       "    </tr>\n",
       "    <tr>\n",
       "      <th>1180</th>\n",
       "      <td>Jackson County</td>\n",
       "      <td>0</td>\n",
       "    </tr>\n",
       "    <tr>\n",
       "      <th>...</th>\n",
       "      <td>...</td>\n",
       "      <td>...</td>\n",
       "    </tr>\n",
       "    <tr>\n",
       "      <th>2631</th>\n",
       "      <td>Guadalupe County</td>\n",
       "      <td>1</td>\n",
       "    </tr>\n",
       "    <tr>\n",
       "      <th>2633</th>\n",
       "      <td>Victoria County</td>\n",
       "      <td>1</td>\n",
       "    </tr>\n",
       "    <tr>\n",
       "      <th>2652</th>\n",
       "      <td>Hill County</td>\n",
       "      <td>1</td>\n",
       "    </tr>\n",
       "    <tr>\n",
       "      <th>2683</th>\n",
       "      <td>San Patricio County</td>\n",
       "      <td>1</td>\n",
       "    </tr>\n",
       "    <tr>\n",
       "      <th>3131</th>\n",
       "      <td>Harris County</td>\n",
       "      <td>1</td>\n",
       "    </tr>\n",
       "  </tbody>\n",
       "</table>\n",
       "<p>253 rows × 2 columns</p>\n",
       "</div>"
      ],
      "text/plain": [
       "                   NMCNTY  Cluster\n",
       "1         McMullen County        0\n",
       "1120        Yoakum County        0\n",
       "1127        Gaines County        0\n",
       "1141    Palo Pinto County        0\n",
       "1180       Jackson County        0\n",
       "...                   ...      ...\n",
       "2631     Guadalupe County        1\n",
       "2633      Victoria County        1\n",
       "2652          Hill County        1\n",
       "2683  San Patricio County        1\n",
       "3131        Harris County        1\n",
       "\n",
       "[253 rows x 2 columns]"
      ]
     },
     "execution_count": 179,
     "metadata": {},
     "output_type": "execute_result"
    }
   ],
   "source": [
    "from sklearn.decomposition import PCA\n",
    "pca = PCA(n_components=2)\n",
    "X_pca = pca.fit_transform(X_scaled)\n",
    "\n",
    "plt.figure(figsize=(10, 6))\n",
    "plt.scatter(X_pca[:, 0], X_pca[:, 1], c=labels, cmap='viridis', s=50)\n",
    "plt.title('Clusters Visualized in PCA-Reduced Space')\n",
    "plt.xlabel('PCA Component 1')\n",
    "plt.ylabel('PCA Component 2')\n",
    "plt.show()\n",
    "\n",
    "county_clusters = pd.DataFrame({\n",
    "\t'NMCNTY': quality_Texas['NMCNTY'],\n",
    "\t'Cluster': labels\n",
    "})\n",
    "\n",
    "county_clusters_sorted = county_clusters.sort_values(by='Cluster')\n",
    "\n",
    "county_clusters_sorted"
   ]
  },
  {
   "cell_type": "code",
   "execution_count": 180,
   "metadata": {},
   "outputs": [
    {
     "data": {
      "application/vnd.plotly.v1+json": {
       "config": {
        "plotlyServerURL": "https://plot.ly"
       },
       "data": [
        {
         "customdata": [
          [
           "McMullen County"
          ],
          [
           "Terrell County"
          ],
          [
           "Cochran County"
          ],
          [
           "Armstrong County"
          ],
          [
           "Delta County"
          ],
          [
           "Borden County"
          ],
          [
           "Culberson County"
          ],
          [
           "Motley County"
          ],
          [
           "Coke County"
          ],
          [
           "Kenedy County"
          ],
          [
           "King County"
          ],
          [
           "Fisher County"
          ],
          [
           "Childress County"
          ],
          [
           "Franklin County"
          ],
          [
           "Shackelford County"
          ],
          [
           "Rains County"
          ],
          [
           "Red River County"
          ],
          [
           "Donley County"
          ],
          [
           "Wilbarger County"
          ],
          [
           "Madison County"
          ],
          [
           "Edwards County"
          ],
          [
           "Kent County"
          ],
          [
           "Roberts County"
          ],
          [
           "Foard County"
          ],
          [
           "Cottle County"
          ],
          [
           "Glasscock County"
          ],
          [
           "Morris County"
          ],
          [
           "Irion County"
          ],
          [
           "Sterling County"
          ],
          [
           "Stonewall County"
          ],
          [
           "Collingsworth County"
          ],
          [
           "Real County"
          ],
          [
           "Jeff Davis County"
          ],
          [
           "Throckmorton County"
          ],
          [
           "Haskell County"
          ],
          [
           "Menard County"
          ],
          [
           "Camp County"
          ],
          [
           "Hardeman County"
          ],
          [
           "Knox County"
          ],
          [
           "Baylor County"
          ],
          [
           "Dickens County"
          ],
          [
           "Marion County"
          ],
          [
           "Lipscomb County"
          ],
          [
           "Hemphill County"
          ],
          [
           "Sutton County"
          ],
          [
           "San Augustine County"
          ],
          [
           "Stephens County"
          ],
          [
           "Schleicher County"
          ],
          [
           "Llano County"
          ],
          [
           "Somervell County"
          ],
          [
           "San Jacinto County"
          ],
          [
           "Garza County"
          ],
          [
           "Newton County"
          ],
          [
           "Lampasas County"
          ],
          [
           "Mason County"
          ],
          [
           "Goliad County"
          ],
          [
           "Dallam County"
          ],
          [
           "Kimble County"
          ],
          [
           "Hall County"
          ],
          [
           "Kinney County"
          ],
          [
           "Briscoe County"
          ],
          [
           "Crockett County"
          ],
          [
           "Sherman County"
          ],
          [
           "Wheeler County"
          ],
          [
           "Upton County"
          ],
          [
           "Crane County"
          ],
          [
           "Reagan County"
          ],
          [
           "Martin County"
          ],
          [
           "Aransas County"
          ],
          [
           "Winkler County"
          ],
          [
           "Clay County"
          ],
          [
           "Coleman County"
          ],
          [
           "Jim Hogg County"
          ],
          [
           "Hamilton County"
          ],
          [
           "Trinity County"
          ],
          [
           "Bandera County"
          ],
          [
           "Swisher County"
          ],
          [
           "Jack County"
          ],
          [
           "Washington County"
          ],
          [
           "Dimmit County"
          ],
          [
           "McCulloch County"
          ],
          [
           "Scurry County"
          ],
          [
           "San Saba County"
          ],
          [
           "Dawson County"
          ],
          [
           "Lynn County"
          ],
          [
           "Falls County"
          ],
          [
           "Limestone County"
          ],
          [
           "Presidio County"
          ],
          [
           "Sabine County"
          ],
          [
           "Grimes County"
          ],
          [
           "Young County"
          ],
          [
           "Bailey County"
          ],
          [
           "La Salle County"
          ],
          [
           "Hudspeth County"
          ],
          [
           "Refugio County"
          ],
          [
           "Hutchinson County"
          ],
          [
           "Carson County"
          ],
          [
           "Blanco County"
          ],
          [
           "Brewster County"
          ],
          [
           "Live Oak County"
          ],
          [
           "Lee County"
          ],
          [
           "Hartley County"
          ],
          [
           "Brooks County"
          ],
          [
           "Fayette County"
          ],
          [
           "Archer County"
          ],
          [
           "Burleson County"
          ],
          [
           "Concho County"
          ],
          [
           "Jones County"
          ],
          [
           "Oldham County"
          ],
          [
           "Lamar County"
          ],
          [
           "Castro County"
          ],
          [
           "Ochiltree County"
          ],
          [
           "Mills County"
          ],
          [
           "Robertson County"
          ],
          [
           "Floyd County"
          ],
          [
           "Ward County"
          ],
          [
           "Andrews County"
          ],
          [
           "Panola County"
          ],
          [
           "Leon County"
          ],
          [
           "Bosque County"
          ],
          [
           "Calhoun County"
          ],
          [
           "Tyler County"
          ],
          [
           "Reeves County"
          ],
          [
           "Upshur County"
          ],
          [
           "Colorado County"
          ],
          [
           "Hansford County"
          ],
          [
           "Houston County"
          ],
          [
           "Yoakum County"
          ],
          [
           "Gaines County"
          ],
          [
           "Palo Pinto County"
          ],
          [
           "Jackson County"
          ],
          [
           "Gray County"
          ],
          [
           "Lavaca County"
          ],
          [
           "Montague County"
          ],
          [
           "Crosby County"
          ],
          [
           "Coryell County"
          ],
          [
           "Comanche County"
          ],
          [
           "Terry County"
          ],
          [
           "Nolan County"
          ],
          [
           "Shelby County"
          ],
          [
           "Mitchell County"
          ],
          [
           "Walker County"
          ],
          [
           "Hopkins County"
          ],
          [
           "Jasper County"
          ],
          [
           "Zapata County"
          ],
          [
           "Freestone County"
          ],
          [
           "Austin County"
          ],
          [
           "Polk County"
          ],
          [
           "Frio County"
          ],
          [
           "Anderson County"
          ],
          [
           "Burnet County"
          ],
          [
           "Moore County"
          ],
          [
           "Callahan County"
          ],
          [
           "Titus County"
          ],
          [
           "Milam County"
          ],
          [
           "Wood County"
          ],
          [
           "Deaf Smith County"
          ],
          [
           "Zavala County"
          ],
          [
           "Pecos County"
          ],
          [
           "Eastland County"
          ],
          [
           "Gillespie County"
          ],
          [
           "Cass County"
          ],
          [
           "Runnels County"
          ],
          [
           "Hood County"
          ],
          [
           "Fannin County"
          ],
          [
           "Howard County"
          ],
          [
           "Waller County"
          ],
          [
           "Duval County"
          ],
          [
           "Harrison County"
          ],
          [
           "Erath County"
          ],
          [
           "Rusk County"
          ],
          [
           "Rockwall County"
          ],
          [
           "Parmer County"
          ],
          [
           "Lamb County"
          ],
          [
           "Chambers County"
          ],
          [
           "Matagorda County"
          ],
          [
           "Gonzales County"
          ],
          [
           "Kendall County"
          ],
          [
           "Cherokee County"
          ],
          [
           "Karnes County"
          ],
          [
           "Cooke County"
          ],
          [
           "DeWitt County"
          ],
          [
           "Wharton County"
          ],
          [
           "Hockley County"
          ],
          [
           "Caldwell County"
          ],
          [
           "Bee County"
          ],
          [
           "Navarro County"
          ],
          [
           "Brown County"
          ],
          [
           "Wise County"
          ],
          [
           "Gregg County"
          ],
          [
           "Orange County"
          ],
          [
           "Wichita County"
          ],
          [
           "Kleberg County"
          ],
          [
           "Van Zandt County"
          ],
          [
           "Uvalde County"
          ],
          [
           "Kerr County"
          ],
          [
           "Henderson County"
          ],
          [
           "Nacogdoches County"
          ],
          [
           "Hunt County"
          ],
          [
           "Willacy County"
          ],
          [
           "Hardin County"
          ],
          [
           "Medina County"
          ],
          [
           "Bowie County"
          ],
          [
           "Hale County"
          ],
          [
           "Randall County"
          ],
          [
           "Bastrop County"
          ],
          [
           "Jim Wells County"
          ],
          [
           "Val Verde County"
          ],
          [
           "Potter County"
          ],
          [
           "Brazos County"
          ],
          [
           "Angelina County"
          ],
          [
           "Parker County"
          ],
          [
           "Liberty County"
          ],
          [
           "Grayson County"
          ],
          [
           "Smith County"
          ],
          [
           "Taylor County"
          ],
          [
           "Guadalupe County"
          ],
          [
           "Victoria County"
          ],
          [
           "Hill County"
          ],
          [
           "Ellis County"
          ],
          [
           "Maverick County"
          ],
          [
           "San Patricio County"
          ],
          [
           "Wilson County"
          ],
          [
           "Kaufman County"
          ],
          [
           "Atascosa County"
          ],
          [
           "Starr County"
          ],
          [
           "Comal County"
          ],
          [
           "Midland County"
          ],
          [
           "Hays County"
          ],
          [
           "Ector County"
          ],
          [
           "Johnson County"
          ],
          [
           "Bell County"
          ],
          [
           "Galveston County"
          ],
          [
           "Brazoria County"
          ],
          [
           "Tom Green County"
          ],
          [
           "Jefferson County"
          ],
          [
           "Webb County"
          ],
          [
           "Lubbock County"
          ],
          [
           "Montgomery County"
          ],
          [
           "McLennan County"
          ],
          [
           "Denton County"
          ],
          [
           "Williamson County"
          ],
          [
           "Nueces County"
          ],
          [
           "Fort Bend County"
          ],
          [
           "Collin County"
          ],
          [
           "Travis County"
          ],
          [
           "Cameron County"
          ],
          [
           "El Paso County"
          ],
          [
           "Tarrant County"
          ],
          [
           "Bexar County"
          ],
          [
           "Hidalgo County"
          ],
          [
           "Dallas County"
          ],
          [
           "Harris County"
          ]
         ],
         "hovertemplate": "PCA1=%{x}<br>PCA2=%{y}<br>County=%{customdata[0]}<br>Cluster=%{marker.color}<extra></extra>",
         "legendgroup": "",
         "marker": {
          "color": [
           0,
           0,
           0,
           0,
           0,
           0,
           0,
           0,
           0,
           0,
           0,
           0,
           0,
           0,
           0,
           0,
           0,
           0,
           0,
           0,
           0,
           0,
           0,
           0,
           0,
           0,
           0,
           0,
           0,
           0,
           0,
           0,
           0,
           0,
           0,
           0,
           0,
           0,
           0,
           0,
           0,
           0,
           0,
           0,
           0,
           0,
           0,
           0,
           0,
           0,
           0,
           0,
           0,
           0,
           0,
           0,
           0,
           0,
           0,
           0,
           0,
           0,
           0,
           0,
           0,
           0,
           0,
           0,
           0,
           0,
           0,
           0,
           0,
           0,
           0,
           0,
           0,
           0,
           0,
           0,
           0,
           0,
           0,
           0,
           0,
           0,
           0,
           0,
           0,
           0,
           0,
           0,
           0,
           0,
           0,
           0,
           1,
           0,
           0,
           0,
           0,
           0,
           0,
           0,
           0,
           0,
           0,
           0,
           0,
           0,
           0,
           0,
           0,
           0,
           0,
           0,
           0,
           0,
           0,
           0,
           0,
           0,
           0,
           0,
           0,
           0,
           0,
           0,
           0,
           0,
           0,
           0,
           0,
           0,
           0,
           0,
           0,
           0,
           0,
           0,
           0,
           0,
           0,
           0,
           0,
           0,
           1,
           0,
           0,
           0,
           0,
           0,
           0,
           0,
           0,
           0,
           0,
           0,
           0,
           0,
           0,
           0,
           0,
           1,
           0,
           0,
           1,
           0,
           0,
           0,
           0,
           1,
           0,
           0,
           1,
           0,
           0,
           1,
           0,
           0,
           1,
           0,
           0,
           0,
           1,
           0,
           0,
           0,
           1,
           1,
           1,
           1,
           0,
           0,
           0,
           0,
           0,
           0,
           1,
           0,
           1,
           1,
           0,
           0,
           1,
           1,
           0,
           0,
           1,
           1,
           0,
           1,
           1,
           1,
           1,
           1,
           1,
           1,
           1,
           1,
           0,
           1,
           1,
           1,
           1,
           0,
           1,
           1,
           1,
           1,
           1,
           1,
           1,
           1,
           1,
           1,
           0,
           1,
           1,
           1,
           1,
           1,
           1,
           1,
           1,
           1,
           0,
           1,
           1,
           1,
           0,
           1,
           1
          ],
          "coloraxis": "coloraxis",
          "symbol": "circle"
         },
         "mode": "markers",
         "name": "",
         "orientation": "v",
         "showlegend": false,
         "type": "scatter",
         "x": [
          0.9743946147446367,
          1.542066496258872,
          1.8107763007270608,
          -0.4272820023112559,
          1.2953290902172354,
          0.04800216877315487,
          2.0939194001920116,
          1.5523219876778236,
          1.3125835028800894,
          2.686820032895234,
          1.25839111323857,
          1.6096876447243833,
          1.497657299195386,
          1.6103765636112242,
          1.6411525465926171,
          0.8260468423267093,
          1.536539753124077,
          1.4587562886051308,
          1.9160771921810607,
          0.9181665146108066,
          1.8116712115750895,
          0.6710628650710895,
          0.4317221680799207,
          1.5489884582909628,
          2.306410756145127,
          0.31544247781979656,
          1.9258041355786295,
          -0.27067115983171725,
          0.878443401473714,
          0.925672742433098,
          1.8163977273963343,
          1.6666215018505472,
          0.8986971395758984,
          1.4429771403089793,
          1.4069157775415637,
          1.7496413926262575,
          1.5208140834231865,
          1.5689801144207431,
          1.5380097352001891,
          1.2661890982768518,
          1.5551474494219415,
          1.8921749922201312,
          0.8741607500819576,
          0.27602797459317613,
          2.2307321995213027,
          1.93047594023347,
          1.8574725520403492,
          1.1590826420080451,
          1.5136038838877524,
          0.32007366007948046,
          1.0485502128619872,
          0.7981841973846144,
          1.776539229546545,
          0.29567179367229646,
          1.2007845791677316,
          0.4401220721914218,
          1.1042448867385637,
          1.8463201484312872,
          1.9028812937540212,
          2.130945351781166,
          1.2578886297336032,
          1.9484449768189485,
          0.8686704363370803,
          0.9429929209783138,
          0.6308496969340318,
          1.4053453105107008,
          0.6204876292271605,
          0.02389304547634046,
          1.0160875488278858,
          1.137932629605056,
          -0.020961934474447965,
          1.3655470725168113,
          2.7713019153515153,
          1.1896102503692194,
          1.1377753613799038,
          0.024483034478361216,
          1.3211444166070292,
          0.6643285781988142,
          -0.07643447311005637,
          3.0264247928456536,
          0.9816923486804235,
          0.07867516946216072,
          1.616996347537506,
          1.5103880412891086,
          0.6216202692774822,
          0.977253195823212,
          1.4024263869018527,
          2.309379987995877,
          1.7054252737375806,
          0.6187788789183994,
          0.7929472289843341,
          1.2466648784404246,
          1.3634662986944561,
          1.7917032743851153,
          1.0347995831981178,
          0.36232666479842374,
          -1.2796560837549213,
          0.05707650347388302,
          0.5230359297579752,
          0.7019508149642698,
          0.3736335082933054,
          0.027280018136510074,
          3.021310025661973,
          -0.25064506647324275,
          -0.5035905074444045,
          -0.3019198608366204,
          0.640520014708433,
          0.08288196983857984,
          -0.8203767461978742,
          0.33429485681254806,
          0.7117680293152936,
          0.6828752484686635,
          0.6873243821901438,
          0.45283800922902245,
          0.9467208882196233,
          0.46849539093332765,
          -0.5423697415292881,
          0.6134418716340417,
          0.5390648107952595,
          0.6481094180382581,
          0.6997433510326062,
          0.5786304032388263,
          0.6425615765059942,
          -0.49411896128805893,
          0.8609385794371524,
          1.044335358198735,
          1.2005759941440262,
          0.6406476441969245,
          0.5081099076042921,
          0.594025626474597,
          -0.25109814103415407,
          0.10357211899074625,
          -0.08059310996565514,
          -0.2772902710141658,
          0.908053286708613,
          -0.021113609299873937,
          0.7730202009799089,
          0.9469230816843707,
          0.5081074681506448,
          1.100841074736402,
          -0.33736997275899605,
          -0.4434175768218428,
          -0.2690093095422048,
          0.5072685267435784,
          2.1374587814140447,
          0.5512108715547398,
          -1.0403676955963739,
          0.21024204949703001,
          0.8984777287324622,
          -0.17686583646807008,
          -0.4878497551530892,
          0.4444386924453391,
          -0.13115351021996094,
          1.0959000392284572,
          -0.08614199494407031,
          -0.34467758332565057,
          0.2731647412700957,
          2.4103629537856657,
          -0.07940062838474121,
          0.9578248582229963,
          -0.8290222669721257,
          0.4495425448322368,
          0.6612158569494976,
          -1.582866454938686,
          -0.7050967169086407,
          -0.24809467192126702,
          -1.3772157889970997,
          0.8520905706328985,
          -0.26246772187490564,
          -0.8586139451888637,
          -0.587822331977221,
          -4.796747719887843,
          -0.12582254334308482,
          0.15620664873791762,
          -2.5304278604874915,
          0.3305043877349751,
          -0.0454732059388843,
          -3.1256821728836477,
          -0.02450234169321185,
          -0.660035648433306,
          -1.0470861548028003,
          -0.7694854375742745,
          -0.19326643357186948,
          0.20319985270412147,
          -1.2627883399592505,
          0.23461042120320863,
          -0.26715747826166375,
          -0.3020299700612925,
          -2.3368483506072146,
          -1.08215963674347,
          -0.8943407158173061,
          -1.6146486393441926,
          0.19041656472732726,
          -0.8597865172495739,
          0.3006838849347148,
          -0.5322897952474913,
          -0.7481183854094056,
          -0.4247830986327745,
          -1.768927296718161,
          1.4465999043667472,
          -1.2915039184127077,
          -1.2616182612977314,
          -0.7364830765489084,
          -0.05329124859390249,
          -2.5849212261497314,
          -3.0577668025081293,
          0.03569951811630564,
          0.3404494668333353,
          -1.3785045018770232,
          -2.21550036108526,
          -0.5544545886038461,
          -3.5933887737397687,
          -0.8981966921989761,
          -2.2559094632114025,
          -2.0813723182115074,
          -2.06451654933907,
          -3.043278164201546,
          -2.057557071299692,
          -1.091848607555319,
          -3.4040044863723473,
          0.9296973432752942,
          -1.1951905508038008,
          -2.826915052300823,
          -3.3555949441306074,
          -1.1245445238340035,
          1.8453219939122825,
          -3.714981594791792,
          -4.20283888554645,
          -3.6741929728543137,
          -2.7743045810534817,
          -3.036214504096801,
          -1.6938854548063391,
          -3.0658632867150586,
          -3.4678911614711767,
          -2.318806726453317,
          -1.2935444998507937,
          -0.5586234260582252,
          -1.9189126105067085,
          -4.0332489847914115,
          -1.7918994089908404,
          -4.512437493011914,
          -4.965312354136229,
          -2.542465153929393,
          -4.6727014441439385,
          -5.437071882703147,
          -4.824903795579438,
          -0.4676243038037602,
          -1.0641378292769352,
          -3.014203698794661,
          -2.082501259964178,
          -0.0952771754704031,
          -2.753467408202615,
          -2.304114475505248
         ],
         "xaxis": "x",
         "y": [
          -2.3334899506251867,
          -1.2225575503495745,
          -0.386192520750688,
          -2.7591551701930634,
          -0.7273846555445033,
          -3.2884846573934006,
          -1.1545683412757255,
          -0.9061271957150706,
          -1.0836457585610713,
          0.7357834347989817,
          -2.4287722946253067,
          -1.353034772019629,
          -1.3244673300177054,
          -1.1719802409331488,
          -1.502583961698404,
          -1.4006671137800557,
          0.5781238600561315,
          -0.7814886443241217,
          0.5113989094228144,
          -0.6878152043441095,
          -1.5252422563922696,
          -2.425513602967412,
          -1.6322464371306673,
          -1.2882747049540093,
          -1.0405826688938848,
          -2.1472167308647543,
          1.1652546571157278,
          -2.6625820919347207,
          -1.2260132120424774,
          -1.6930199900697587,
          -0.9075425019473802,
          -0.21417079508402223,
          -1.4367737286949327,
          -1.45426581716401,
          -1.2919783185124423,
          -0.7002839530135243,
          -0.18429135545401654,
          -0.7054499606231063,
          -0.8902886572002428,
          -1.4253593087205092,
          -0.5471663209621839,
          0.050245733329116665,
          -1.637787273045989,
          -1.7217128594723123,
          0.48559649987224174,
          0.7410744057656407,
          -0.35209031788674017,
          -1.2146660854689757,
          -0.6594222430117622,
          -1.2379891953542717,
          0.0653702253325775,
          -0.7354051173935126,
          1.051341816619315,
          -0.9403205263109812,
          -1.3394202738308754,
          -1.2161861709099684,
          -1.8474755503596971,
          -0.5413710609494101,
          -0.16028206207562437,
          0.20393515039483626,
          -0.8170199987216104,
          -0.25194236898774003,
          -1.3160523048293236,
          -0.2155373776814518,
          -1.536105596128304,
          -0.35561876027113754,
          -1.356815910793263,
          -1.8992289453205666,
          0.1553690168117302,
          -0.7908834862448083,
          -1.175252514101798,
          -0.38884732122358334,
          0.5598924056848523,
          -0.48847501388508247,
          0.551431531249099,
          -1.3571798737619634,
          -0.1159535655213061,
          -0.5862790773916303,
          -0.4896110314730091,
          0.16148065826849406,
          -0.29354490948250483,
          -0.4590530051438024,
          -0.3347214787396472,
          -0.24153704595129968,
          -0.7936785112686562,
          -0.1471350624485361,
          0.6545886291783062,
          1.285092617209158,
          1.5055259896817257,
          0.4886950972056458,
          -0.2804202422402972,
          -0.12961576819569362,
          -0.8348969024335554,
          0.18224834068278473,
          0.03499772219433797,
          -0.11830473499826161,
          -2.082697086188746,
          -1.756164868040101,
          -0.9093683852834439,
          -0.39888220579394806,
          -0.49257975483351596,
          -1.8804919705481489,
          1.8858273193658786,
          -0.8651746082889415,
          -1.4509709998833418,
          -0.6963029807785742,
          -1.1238213903841845,
          -0.07911080434311311,
          -1.6512238223034195,
          0.6810267628324042,
          -0.9024011581116432,
          -0.5468786850535146,
          0.09777537940463812,
          -0.009607670978919593,
          0.3432807136552555,
          -0.3445719980193503,
          -1.4085950900767894,
          0.2720793159268135,
          1.008826045668288,
          -0.055564486818058687,
          -0.8367828251728255,
          1.4417219530238523,
          -0.6430008614107562,
          0.24604323954405716,
          -0.16581885835992966,
          -0.5844455441076827,
          0.7640275699212654,
          -0.73182431157154,
          -0.9152583007517747,
          0.21921401233815854,
          -0.3480643691922709,
          0.3393551766175801,
          -0.053288141715368,
          -0.16263654254471374,
          0.3144345363879293,
          0.9388378939887264,
          -0.019134791183565317,
          0.7082752650765917,
          0.45658311680731134,
          0.8533239686043815,
          0.08230192026731806,
          0.4867799974754752,
          -0.046275844696984945,
          1.4205548277633075,
          2.194009137621097,
          1.3065379599734146,
          -0.3815314678568899,
          1.3748326493153495,
          -0.31948296278119326,
          0.35060692734681836,
          -0.46888038247537916,
          -0.09028103081006753,
          -0.5022100021393593,
          0.9018496175430036,
          0.5910662423662782,
          0.5117927507137647,
          -0.3576554673504791,
          3.473773678356925,
          0.04080603791096838,
          1.4280517656382399,
          -1.0742109106987396,
          1.2036451300429332,
          -0.2902963374034593,
          -0.43757059330930115,
          0.19137986787493558,
          0.8991780816039183,
          -0.2712237621570541,
          0.7396703632218078,
          1.1929794589128773,
          -0.1742482049803539,
          0.687071568332673,
          -2.097932944550032,
          -0.5579400215117772,
          0.6139984103439133,
          -0.07229545619461936,
          1.4600161989061435,
          -0.04368904482977643,
          -1.5738580349686042,
          1.3881342924876605,
          -0.30280856484364427,
          -0.1721713246829634,
          0.17390815811418342,
          0.43134180482870044,
          0.6572478961069917,
          0.15952227929784288,
          1.8919503443334682,
          1.1188283961867334,
          1.4430455860894604,
          -0.4149177794839421,
          1.0393077152577792,
          1.440185002134191,
          0.49226766844485953,
          1.377595008362262,
          0.6968753936814421,
          1.498259117045487,
          0.7283407308910042,
          0.9711901314915502,
          1.5298480358521136,
          0.7103441140672306,
          4.135979711439204,
          1.1393666029209768,
          0.15894769198215772,
          1.5685843521945566,
          2.1523580668505264,
          -0.3562167161392446,
          -0.4523557571076718,
          2.227553932515614,
          2.0582563655273045,
          0.7175191347421621,
          0.09110267504393106,
          1.9037493887009647,
          -0.6713451359592973,
          2.0912668960423746,
          0.5644480698568257,
          0.692160319351411,
          0.27986401887246265,
          -0.19522469062914485,
          0.64516759875497,
          1.1003262807159488,
          -0.21900632936061673,
          4.340047703971628,
          2.133868584945178,
          -0.22014069150700571,
          0.02956606874076996,
          1.3890414054209488,
          6.553682414369981,
          -0.5061396572085163,
          -1.1672930888691087,
          -0.6517959222976686,
          0.24561596528127735,
          0.09083712993101485,
          1.510918103430284,
          0.6543623283895185,
          0.4833115788242491,
          0.5390802245226854,
          2.612780661942853,
          1.7393277985121784,
          1.0293042548739295,
          -0.12394828831978744,
          0.7446588659813489,
          -0.7316129369107678,
          -1.010947228025491,
          1.2223090100495932,
          -0.7007978962450805,
          -1.1479350923850438,
          -0.9844493427539442,
          3.125120303744507,
          2.148490493254862,
          0.5112283128327593,
          1.2573108272729538,
          3.4287712455034765,
          0.8842408486139329,
          1.3541702691051276
         ],
         "yaxis": "y"
        }
       ],
       "layout": {
        "coloraxis": {
         "colorbar": {
          "title": {
           "text": "Cluster"
          }
         },
         "colorscale": [
          [
           0,
           "#440154"
          ],
          [
           0.1111111111111111,
           "#482878"
          ],
          [
           0.2222222222222222,
           "#3e4989"
          ],
          [
           0.3333333333333333,
           "#31688e"
          ],
          [
           0.4444444444444444,
           "#26828e"
          ],
          [
           0.5555555555555556,
           "#1f9e89"
          ],
          [
           0.6666666666666666,
           "#35b779"
          ],
          [
           0.7777777777777778,
           "#6ece58"
          ],
          [
           0.8888888888888888,
           "#b5de2b"
          ],
          [
           1,
           "#fde725"
          ]
         ]
        },
        "legend": {
         "tracegroupgap": 0
        },
        "template": {
         "data": {
          "bar": [
           {
            "error_x": {
             "color": "#2a3f5f"
            },
            "error_y": {
             "color": "#2a3f5f"
            },
            "marker": {
             "line": {
              "color": "#E5ECF6",
              "width": 0.5
             },
             "pattern": {
              "fillmode": "overlay",
              "size": 10,
              "solidity": 0.2
             }
            },
            "type": "bar"
           }
          ],
          "barpolar": [
           {
            "marker": {
             "line": {
              "color": "#E5ECF6",
              "width": 0.5
             },
             "pattern": {
              "fillmode": "overlay",
              "size": 10,
              "solidity": 0.2
             }
            },
            "type": "barpolar"
           }
          ],
          "carpet": [
           {
            "aaxis": {
             "endlinecolor": "#2a3f5f",
             "gridcolor": "white",
             "linecolor": "white",
             "minorgridcolor": "white",
             "startlinecolor": "#2a3f5f"
            },
            "baxis": {
             "endlinecolor": "#2a3f5f",
             "gridcolor": "white",
             "linecolor": "white",
             "minorgridcolor": "white",
             "startlinecolor": "#2a3f5f"
            },
            "type": "carpet"
           }
          ],
          "choropleth": [
           {
            "colorbar": {
             "outlinewidth": 0,
             "ticks": ""
            },
            "type": "choropleth"
           }
          ],
          "contour": [
           {
            "colorbar": {
             "outlinewidth": 0,
             "ticks": ""
            },
            "colorscale": [
             [
              0,
              "#0d0887"
             ],
             [
              0.1111111111111111,
              "#46039f"
             ],
             [
              0.2222222222222222,
              "#7201a8"
             ],
             [
              0.3333333333333333,
              "#9c179e"
             ],
             [
              0.4444444444444444,
              "#bd3786"
             ],
             [
              0.5555555555555556,
              "#d8576b"
             ],
             [
              0.6666666666666666,
              "#ed7953"
             ],
             [
              0.7777777777777778,
              "#fb9f3a"
             ],
             [
              0.8888888888888888,
              "#fdca26"
             ],
             [
              1,
              "#f0f921"
             ]
            ],
            "type": "contour"
           }
          ],
          "contourcarpet": [
           {
            "colorbar": {
             "outlinewidth": 0,
             "ticks": ""
            },
            "type": "contourcarpet"
           }
          ],
          "heatmap": [
           {
            "colorbar": {
             "outlinewidth": 0,
             "ticks": ""
            },
            "colorscale": [
             [
              0,
              "#0d0887"
             ],
             [
              0.1111111111111111,
              "#46039f"
             ],
             [
              0.2222222222222222,
              "#7201a8"
             ],
             [
              0.3333333333333333,
              "#9c179e"
             ],
             [
              0.4444444444444444,
              "#bd3786"
             ],
             [
              0.5555555555555556,
              "#d8576b"
             ],
             [
              0.6666666666666666,
              "#ed7953"
             ],
             [
              0.7777777777777778,
              "#fb9f3a"
             ],
             [
              0.8888888888888888,
              "#fdca26"
             ],
             [
              1,
              "#f0f921"
             ]
            ],
            "type": "heatmap"
           }
          ],
          "heatmapgl": [
           {
            "colorbar": {
             "outlinewidth": 0,
             "ticks": ""
            },
            "colorscale": [
             [
              0,
              "#0d0887"
             ],
             [
              0.1111111111111111,
              "#46039f"
             ],
             [
              0.2222222222222222,
              "#7201a8"
             ],
             [
              0.3333333333333333,
              "#9c179e"
             ],
             [
              0.4444444444444444,
              "#bd3786"
             ],
             [
              0.5555555555555556,
              "#d8576b"
             ],
             [
              0.6666666666666666,
              "#ed7953"
             ],
             [
              0.7777777777777778,
              "#fb9f3a"
             ],
             [
              0.8888888888888888,
              "#fdca26"
             ],
             [
              1,
              "#f0f921"
             ]
            ],
            "type": "heatmapgl"
           }
          ],
          "histogram": [
           {
            "marker": {
             "pattern": {
              "fillmode": "overlay",
              "size": 10,
              "solidity": 0.2
             }
            },
            "type": "histogram"
           }
          ],
          "histogram2d": [
           {
            "colorbar": {
             "outlinewidth": 0,
             "ticks": ""
            },
            "colorscale": [
             [
              0,
              "#0d0887"
             ],
             [
              0.1111111111111111,
              "#46039f"
             ],
             [
              0.2222222222222222,
              "#7201a8"
             ],
             [
              0.3333333333333333,
              "#9c179e"
             ],
             [
              0.4444444444444444,
              "#bd3786"
             ],
             [
              0.5555555555555556,
              "#d8576b"
             ],
             [
              0.6666666666666666,
              "#ed7953"
             ],
             [
              0.7777777777777778,
              "#fb9f3a"
             ],
             [
              0.8888888888888888,
              "#fdca26"
             ],
             [
              1,
              "#f0f921"
             ]
            ],
            "type": "histogram2d"
           }
          ],
          "histogram2dcontour": [
           {
            "colorbar": {
             "outlinewidth": 0,
             "ticks": ""
            },
            "colorscale": [
             [
              0,
              "#0d0887"
             ],
             [
              0.1111111111111111,
              "#46039f"
             ],
             [
              0.2222222222222222,
              "#7201a8"
             ],
             [
              0.3333333333333333,
              "#9c179e"
             ],
             [
              0.4444444444444444,
              "#bd3786"
             ],
             [
              0.5555555555555556,
              "#d8576b"
             ],
             [
              0.6666666666666666,
              "#ed7953"
             ],
             [
              0.7777777777777778,
              "#fb9f3a"
             ],
             [
              0.8888888888888888,
              "#fdca26"
             ],
             [
              1,
              "#f0f921"
             ]
            ],
            "type": "histogram2dcontour"
           }
          ],
          "mesh3d": [
           {
            "colorbar": {
             "outlinewidth": 0,
             "ticks": ""
            },
            "type": "mesh3d"
           }
          ],
          "parcoords": [
           {
            "line": {
             "colorbar": {
              "outlinewidth": 0,
              "ticks": ""
             }
            },
            "type": "parcoords"
           }
          ],
          "pie": [
           {
            "automargin": true,
            "type": "pie"
           }
          ],
          "scatter": [
           {
            "fillpattern": {
             "fillmode": "overlay",
             "size": 10,
             "solidity": 0.2
            },
            "type": "scatter"
           }
          ],
          "scatter3d": [
           {
            "line": {
             "colorbar": {
              "outlinewidth": 0,
              "ticks": ""
             }
            },
            "marker": {
             "colorbar": {
              "outlinewidth": 0,
              "ticks": ""
             }
            },
            "type": "scatter3d"
           }
          ],
          "scattercarpet": [
           {
            "marker": {
             "colorbar": {
              "outlinewidth": 0,
              "ticks": ""
             }
            },
            "type": "scattercarpet"
           }
          ],
          "scattergeo": [
           {
            "marker": {
             "colorbar": {
              "outlinewidth": 0,
              "ticks": ""
             }
            },
            "type": "scattergeo"
           }
          ],
          "scattergl": [
           {
            "marker": {
             "colorbar": {
              "outlinewidth": 0,
              "ticks": ""
             }
            },
            "type": "scattergl"
           }
          ],
          "scattermapbox": [
           {
            "marker": {
             "colorbar": {
              "outlinewidth": 0,
              "ticks": ""
             }
            },
            "type": "scattermapbox"
           }
          ],
          "scatterpolar": [
           {
            "marker": {
             "colorbar": {
              "outlinewidth": 0,
              "ticks": ""
             }
            },
            "type": "scatterpolar"
           }
          ],
          "scatterpolargl": [
           {
            "marker": {
             "colorbar": {
              "outlinewidth": 0,
              "ticks": ""
             }
            },
            "type": "scatterpolargl"
           }
          ],
          "scatterternary": [
           {
            "marker": {
             "colorbar": {
              "outlinewidth": 0,
              "ticks": ""
             }
            },
            "type": "scatterternary"
           }
          ],
          "surface": [
           {
            "colorbar": {
             "outlinewidth": 0,
             "ticks": ""
            },
            "colorscale": [
             [
              0,
              "#0d0887"
             ],
             [
              0.1111111111111111,
              "#46039f"
             ],
             [
              0.2222222222222222,
              "#7201a8"
             ],
             [
              0.3333333333333333,
              "#9c179e"
             ],
             [
              0.4444444444444444,
              "#bd3786"
             ],
             [
              0.5555555555555556,
              "#d8576b"
             ],
             [
              0.6666666666666666,
              "#ed7953"
             ],
             [
              0.7777777777777778,
              "#fb9f3a"
             ],
             [
              0.8888888888888888,
              "#fdca26"
             ],
             [
              1,
              "#f0f921"
             ]
            ],
            "type": "surface"
           }
          ],
          "table": [
           {
            "cells": {
             "fill": {
              "color": "#EBF0F8"
             },
             "line": {
              "color": "white"
             }
            },
            "header": {
             "fill": {
              "color": "#C8D4E3"
             },
             "line": {
              "color": "white"
             }
            },
            "type": "table"
           }
          ]
         },
         "layout": {
          "annotationdefaults": {
           "arrowcolor": "#2a3f5f",
           "arrowhead": 0,
           "arrowwidth": 1
          },
          "autotypenumbers": "strict",
          "coloraxis": {
           "colorbar": {
            "outlinewidth": 0,
            "ticks": ""
           }
          },
          "colorscale": {
           "diverging": [
            [
             0,
             "#8e0152"
            ],
            [
             0.1,
             "#c51b7d"
            ],
            [
             0.2,
             "#de77ae"
            ],
            [
             0.3,
             "#f1b6da"
            ],
            [
             0.4,
             "#fde0ef"
            ],
            [
             0.5,
             "#f7f7f7"
            ],
            [
             0.6,
             "#e6f5d0"
            ],
            [
             0.7,
             "#b8e186"
            ],
            [
             0.8,
             "#7fbc41"
            ],
            [
             0.9,
             "#4d9221"
            ],
            [
             1,
             "#276419"
            ]
           ],
           "sequential": [
            [
             0,
             "#0d0887"
            ],
            [
             0.1111111111111111,
             "#46039f"
            ],
            [
             0.2222222222222222,
             "#7201a8"
            ],
            [
             0.3333333333333333,
             "#9c179e"
            ],
            [
             0.4444444444444444,
             "#bd3786"
            ],
            [
             0.5555555555555556,
             "#d8576b"
            ],
            [
             0.6666666666666666,
             "#ed7953"
            ],
            [
             0.7777777777777778,
             "#fb9f3a"
            ],
            [
             0.8888888888888888,
             "#fdca26"
            ],
            [
             1,
             "#f0f921"
            ]
           ],
           "sequentialminus": [
            [
             0,
             "#0d0887"
            ],
            [
             0.1111111111111111,
             "#46039f"
            ],
            [
             0.2222222222222222,
             "#7201a8"
            ],
            [
             0.3333333333333333,
             "#9c179e"
            ],
            [
             0.4444444444444444,
             "#bd3786"
            ],
            [
             0.5555555555555556,
             "#d8576b"
            ],
            [
             0.6666666666666666,
             "#ed7953"
            ],
            [
             0.7777777777777778,
             "#fb9f3a"
            ],
            [
             0.8888888888888888,
             "#fdca26"
            ],
            [
             1,
             "#f0f921"
            ]
           ]
          },
          "colorway": [
           "#636efa",
           "#EF553B",
           "#00cc96",
           "#ab63fa",
           "#FFA15A",
           "#19d3f3",
           "#FF6692",
           "#B6E880",
           "#FF97FF",
           "#FECB52"
          ],
          "font": {
           "color": "#2a3f5f"
          },
          "geo": {
           "bgcolor": "white",
           "lakecolor": "white",
           "landcolor": "#E5ECF6",
           "showlakes": true,
           "showland": true,
           "subunitcolor": "white"
          },
          "hoverlabel": {
           "align": "left"
          },
          "hovermode": "closest",
          "mapbox": {
           "style": "light"
          },
          "paper_bgcolor": "white",
          "plot_bgcolor": "#E5ECF6",
          "polar": {
           "angularaxis": {
            "gridcolor": "white",
            "linecolor": "white",
            "ticks": ""
           },
           "bgcolor": "#E5ECF6",
           "radialaxis": {
            "gridcolor": "white",
            "linecolor": "white",
            "ticks": ""
           }
          },
          "scene": {
           "xaxis": {
            "backgroundcolor": "#E5ECF6",
            "gridcolor": "white",
            "gridwidth": 2,
            "linecolor": "white",
            "showbackground": true,
            "ticks": "",
            "zerolinecolor": "white"
           },
           "yaxis": {
            "backgroundcolor": "#E5ECF6",
            "gridcolor": "white",
            "gridwidth": 2,
            "linecolor": "white",
            "showbackground": true,
            "ticks": "",
            "zerolinecolor": "white"
           },
           "zaxis": {
            "backgroundcolor": "#E5ECF6",
            "gridcolor": "white",
            "gridwidth": 2,
            "linecolor": "white",
            "showbackground": true,
            "ticks": "",
            "zerolinecolor": "white"
           }
          },
          "shapedefaults": {
           "line": {
            "color": "#2a3f5f"
           }
          },
          "ternary": {
           "aaxis": {
            "gridcolor": "white",
            "linecolor": "white",
            "ticks": ""
           },
           "baxis": {
            "gridcolor": "white",
            "linecolor": "white",
            "ticks": ""
           },
           "bgcolor": "#E5ECF6",
           "caxis": {
            "gridcolor": "white",
            "linecolor": "white",
            "ticks": ""
           }
          },
          "title": {
           "x": 0.05
          },
          "xaxis": {
           "automargin": true,
           "gridcolor": "white",
           "linecolor": "white",
           "ticks": "",
           "title": {
            "standoff": 15
           },
           "zerolinecolor": "white",
           "zerolinewidth": 2
          },
          "yaxis": {
           "automargin": true,
           "gridcolor": "white",
           "linecolor": "white",
           "ticks": "",
           "title": {
            "standoff": 15
           },
           "zerolinecolor": "white",
           "zerolinewidth": 2
          }
         }
        },
        "title": {
         "text": "Texas Counties: KMeans Clustering on PCA-reduced Data"
        },
        "xaxis": {
         "anchor": "y",
         "domain": [
          0,
          1
         ],
         "title": {
          "text": "PCA1"
         }
        },
        "yaxis": {
         "anchor": "x",
         "domain": [
          0,
          1
         ],
         "title": {
          "text": "PCA2"
         }
        }
       }
      }
     },
     "metadata": {},
     "output_type": "display_data"
    }
   ],
   "source": [
    "import plotly.express as px\n",
    "import pandas as pd\n",
    "\n",
    "# Assume you have:\n",
    "# - 'X_pca' = your 2D PCA-transformed features (NumPy array)\n",
    "# - 'df' = your original DataFrame, including a 'County Name' column\n",
    "# - 'km.labels_' = cluster labels from KMeans\n",
    "\n",
    "# 1. Create a new DataFrame with the PCA and cluster info\n",
    "pca_df = pd.DataFrame({\n",
    "    'PCA1': X_pca[:, 0],\n",
    "    'PCA2': X_pca[:, 1],\n",
    "    'County': county_clusters['NMCNTY'],    # or whatever the exact column name is\n",
    "    'Cluster': kmeans.labels_\n",
    "})\n",
    "\n",
    "# 2. Plot\n",
    "fig = px.scatter(\n",
    "    pca_df,\n",
    "    x='PCA1',\n",
    "    y='PCA2',\n",
    "    color='Cluster',\n",
    "    hover_data=['County'],   # <-- this is the magic!\n",
    "    title='Texas Counties: KMeans Clustering on PCA-reduced Data',\n",
    "    color_continuous_scale='Viridis'  # you can also use discrete colors if clusters are integers\n",
    ")\n",
    "\n",
    "fig.show()"
   ]
  },
  {
   "cell_type": "code",
   "execution_count": 171,
   "metadata": {},
   "outputs": [
    {
     "data": {
      "text/html": [
       "<div>\n",
       "<style scoped>\n",
       "    .dataframe tbody tr th:only-of-type {\n",
       "        vertical-align: middle;\n",
       "    }\n",
       "\n",
       "    .dataframe tbody tr th {\n",
       "        vertical-align: top;\n",
       "    }\n",
       "\n",
       "    .dataframe thead th {\n",
       "        text-align: right;\n",
       "    }\n",
       "</style>\n",
       "<table border=\"1\" class=\"dataframe\">\n",
       "  <thead>\n",
       "    <tr style=\"text-align: right;\">\n",
       "      <th></th>\n",
       "      <th>NMCNTY</th>\n",
       "      <th>Cluster</th>\n",
       "    </tr>\n",
       "  </thead>\n",
       "  <tbody>\n",
       "    <tr>\n",
       "      <th>1</th>\n",
       "      <td>McMullen County</td>\n",
       "      <td>0</td>\n",
       "    </tr>\n",
       "    <tr>\n",
       "      <th>2</th>\n",
       "      <td>Terrell County</td>\n",
       "      <td>0</td>\n",
       "    </tr>\n",
       "    <tr>\n",
       "      <th>7</th>\n",
       "      <td>Cochran County</td>\n",
       "      <td>0</td>\n",
       "    </tr>\n",
       "    <tr>\n",
       "      <th>8</th>\n",
       "      <td>Armstrong County</td>\n",
       "      <td>0</td>\n",
       "    </tr>\n",
       "    <tr>\n",
       "      <th>9</th>\n",
       "      <td>Delta County</td>\n",
       "      <td>0</td>\n",
       "    </tr>\n",
       "    <tr>\n",
       "      <th>...</th>\n",
       "      <td>...</td>\n",
       "      <td>...</td>\n",
       "    </tr>\n",
       "    <tr>\n",
       "      <th>3119</th>\n",
       "      <td>Tarrant County</td>\n",
       "      <td>1</td>\n",
       "    </tr>\n",
       "    <tr>\n",
       "      <th>3122</th>\n",
       "      <td>Bexar County</td>\n",
       "      <td>1</td>\n",
       "    </tr>\n",
       "    <tr>\n",
       "      <th>3123</th>\n",
       "      <td>Hidalgo County</td>\n",
       "      <td>0</td>\n",
       "    </tr>\n",
       "    <tr>\n",
       "      <th>3124</th>\n",
       "      <td>Dallas County</td>\n",
       "      <td>1</td>\n",
       "    </tr>\n",
       "    <tr>\n",
       "      <th>3131</th>\n",
       "      <td>Harris County</td>\n",
       "      <td>1</td>\n",
       "    </tr>\n",
       "  </tbody>\n",
       "</table>\n",
       "<p>253 rows × 2 columns</p>\n",
       "</div>"
      ],
      "text/plain": [
       "                NMCNTY  Cluster\n",
       "1      McMullen County        0\n",
       "2       Terrell County        0\n",
       "7       Cochran County        0\n",
       "8     Armstrong County        0\n",
       "9         Delta County        0\n",
       "...                ...      ...\n",
       "3119    Tarrant County        1\n",
       "3122      Bexar County        1\n",
       "3123    Hidalgo County        0\n",
       "3124     Dallas County        1\n",
       "3131     Harris County        1\n",
       "\n",
       "[253 rows x 2 columns]"
      ]
     },
     "execution_count": 171,
     "metadata": {},
     "output_type": "execute_result"
    }
   ],
   "source": [
    "county_clusters"
   ]
  },
  {
   "cell_type": "code",
   "execution_count": 177,
   "metadata": {},
   "outputs": [
    {
     "data": {
      "text/html": [
       "<div>\n",
       "<style scoped>\n",
       "    .dataframe tbody tr th:only-of-type {\n",
       "        vertical-align: middle;\n",
       "    }\n",
       "\n",
       "    .dataframe tbody tr th {\n",
       "        vertical-align: top;\n",
       "    }\n",
       "\n",
       "    .dataframe thead th {\n",
       "        text-align: right;\n",
       "    }\n",
       "</style>\n",
       "<table border=\"1\" class=\"dataframe\">\n",
       "  <thead>\n",
       "    <tr style=\"text-align: right;\">\n",
       "      <th></th>\n",
       "      <th>countyhelper</th>\n",
       "      <th>LSTATE</th>\n",
       "      <th>NMCNTY</th>\n",
       "      <th>FIPS</th>\n",
       "      <th>LZIP</th>\n",
       "      <th>ULOCALE</th>\n",
       "      <th>Overall Rank</th>\n",
       "      <th>2022 Population</th>\n",
       "      <th>2016 Crime Rate</th>\n",
       "      <th>Unemployment</th>\n",
       "      <th>...</th>\n",
       "      <th>1p3c</th>\n",
       "      <th>1p4c</th>\n",
       "      <th>2p0c</th>\n",
       "      <th>2p1c</th>\n",
       "      <th>2p2c</th>\n",
       "      <th>2p3c</th>\n",
       "      <th>2p4c</th>\n",
       "      <th>Stu:Tea Rank</th>\n",
       "      <th>Diversity Rank (Race)</th>\n",
       "      <th>Diversity Rank (Gender)</th>\n",
       "    </tr>\n",
       "  </thead>\n",
       "  <tbody>\n",
       "    <tr>\n",
       "      <th>2762</th>\n",
       "      <td>TXStarr County</td>\n",
       "      <td>TX</td>\n",
       "      <td>Starr County</td>\n",
       "      <td>48427</td>\n",
       "      <td>78584</td>\n",
       "      <td>Town: Distant</td>\n",
       "      <td>NaN</td>\n",
       "      <td>65,728</td>\n",
       "      <td>14/1000</td>\n",
       "      <td>12.3</td>\n",
       "      <td>...</td>\n",
       "      <td>177.46%</td>\n",
       "      <td>190.13%</td>\n",
       "      <td>123.36%</td>\n",
       "      <td>156.76%</td>\n",
       "      <td>178.41%</td>\n",
       "      <td>207.10%</td>\n",
       "      <td>218.92%</td>\n",
       "      <td>2337</td>\n",
       "      <td>2763</td>\n",
       "      <td>2318</td>\n",
       "    </tr>\n",
       "  </tbody>\n",
       "</table>\n",
       "<p>1 rows × 34 columns</p>\n",
       "</div>"
      ],
      "text/plain": [
       "        countyhelper LSTATE        NMCNTY   FIPS   LZIP        ULOCALE  \\\n",
       "2762  TXStarr County     TX  Starr County  48427  78584  Town: Distant   \n",
       "\n",
       "      Overall Rank 2022 Population 2016 Crime Rate  Unemployment  ...  \\\n",
       "2762           NaN          65,728         14/1000          12.3  ...   \n",
       "\n",
       "         1p3c     1p4c     2p0c     2p1c     2p2c     2p3c     2p4c  \\\n",
       "2762  177.46%  190.13%  123.36%  156.76%  178.41%  207.10%  218.92%   \n",
       "\n",
       "     Stu:Tea Rank  Diversity Rank (Race)  Diversity Rank (Gender)  \n",
       "2762         2337                   2763                     2318  \n",
       "\n",
       "[1 rows x 34 columns]"
      ]
     },
     "execution_count": 177,
     "metadata": {},
     "output_type": "execute_result"
    }
   ],
   "source": [
    "starr = quality_Texas[quality_Texas['NMCNTY'] == 'Starr County']\n",
    "\n",
    "starr"
   ]
  },
  {
   "cell_type": "code",
   "execution_count": 170,
   "metadata": {},
   "outputs": [
    {
     "data": {
      "text/html": [
       "<div>\n",
       "<style scoped>\n",
       "    .dataframe tbody tr th:only-of-type {\n",
       "        vertical-align: middle;\n",
       "    }\n",
       "\n",
       "    .dataframe tbody tr th {\n",
       "        vertical-align: top;\n",
       "    }\n",
       "\n",
       "    .dataframe thead th {\n",
       "        text-align: right;\n",
       "    }\n",
       "</style>\n",
       "<table border=\"1\" class=\"dataframe\">\n",
       "  <thead>\n",
       "    <tr style=\"text-align: right;\">\n",
       "      <th></th>\n",
       "      <th>countyhelper</th>\n",
       "      <th>LSTATE</th>\n",
       "      <th>NMCNTY</th>\n",
       "      <th>FIPS</th>\n",
       "      <th>LZIP</th>\n",
       "      <th>ULOCALE</th>\n",
       "      <th>Overall Rank</th>\n",
       "      <th>2022 Population</th>\n",
       "      <th>2016 Crime Rate</th>\n",
       "      <th>Unemployment</th>\n",
       "      <th>...</th>\n",
       "      <th>1p3c</th>\n",
       "      <th>1p4c</th>\n",
       "      <th>2p0c</th>\n",
       "      <th>2p1c</th>\n",
       "      <th>2p2c</th>\n",
       "      <th>2p3c</th>\n",
       "      <th>2p4c</th>\n",
       "      <th>Stu:Tea Rank</th>\n",
       "      <th>Diversity Rank (Race)</th>\n",
       "      <th>Diversity Rank (Gender)</th>\n",
       "    </tr>\n",
       "  </thead>\n",
       "  <tbody>\n",
       "    <tr>\n",
       "      <th>1</th>\n",
       "      <td>TXMcmullen County</td>\n",
       "      <td>TX</td>\n",
       "      <td>McMullen County</td>\n",
       "      <td>48311</td>\n",
       "      <td>78072</td>\n",
       "      <td>Rural: Remote</td>\n",
       "      <td>NaN</td>\n",
       "      <td>576</td>\n",
       "      <td>47/1000</td>\n",
       "      <td>1.81</td>\n",
       "      <td>...</td>\n",
       "      <td>105.46%</td>\n",
       "      <td>111.95%</td>\n",
       "      <td>72.03%</td>\n",
       "      <td>90.73%</td>\n",
       "      <td>104.21%</td>\n",
       "      <td>120.05%</td>\n",
       "      <td>127.11%</td>\n",
       "      <td>3</td>\n",
       "      <td>2</td>\n",
       "      <td>87</td>\n",
       "    </tr>\n",
       "    <tr>\n",
       "      <th>2</th>\n",
       "      <td>TXTerrell County</td>\n",
       "      <td>TX</td>\n",
       "      <td>Terrell County</td>\n",
       "      <td>48443</td>\n",
       "      <td>79848</td>\n",
       "      <td>Rural: Remote</td>\n",
       "      <td>NaN</td>\n",
       "      <td>693</td>\n",
       "      <td>20/1000</td>\n",
       "      <td>3.54</td>\n",
       "      <td>...</td>\n",
       "      <td>127.10%</td>\n",
       "      <td>135.84%</td>\n",
       "      <td>87.96%</td>\n",
       "      <td>110.73%</td>\n",
       "      <td>125.11%</td>\n",
       "      <td>145.91%</td>\n",
       "      <td>153.79%</td>\n",
       "      <td>12</td>\n",
       "      <td>3</td>\n",
       "      <td>47</td>\n",
       "    </tr>\n",
       "    <tr>\n",
       "      <th>7</th>\n",
       "      <td>TXCochran County</td>\n",
       "      <td>TX</td>\n",
       "      <td>Cochran County</td>\n",
       "      <td>48079</td>\n",
       "      <td>79379</td>\n",
       "      <td>Rural: Remote</td>\n",
       "      <td>NaN</td>\n",
       "      <td>2,526</td>\n",
       "      <td>33/1000</td>\n",
       "      <td>5.08</td>\n",
       "      <td>...</td>\n",
       "      <td>112.29%</td>\n",
       "      <td>121.64%</td>\n",
       "      <td>79.03%</td>\n",
       "      <td>99.96%</td>\n",
       "      <td>114.19%</td>\n",
       "      <td>131.65%</td>\n",
       "      <td>140.54%</td>\n",
       "      <td>41</td>\n",
       "      <td>8</td>\n",
       "      <td>135</td>\n",
       "    </tr>\n",
       "    <tr>\n",
       "      <th>8</th>\n",
       "      <td>TXArmstrong County</td>\n",
       "      <td>TX</td>\n",
       "      <td>Armstrong County</td>\n",
       "      <td>48011</td>\n",
       "      <td>79019</td>\n",
       "      <td>Rural: Distant</td>\n",
       "      <td>NaN</td>\n",
       "      <td>1,850</td>\n",
       "      <td>7/1000</td>\n",
       "      <td>2.85</td>\n",
       "      <td>...</td>\n",
       "      <td>103.99%</td>\n",
       "      <td>110.78%</td>\n",
       "      <td>63.85%</td>\n",
       "      <td>85.75%</td>\n",
       "      <td>98.54%</td>\n",
       "      <td>116.02%</td>\n",
       "      <td>122.96%</td>\n",
       "      <td>16</td>\n",
       "      <td>9</td>\n",
       "      <td>28</td>\n",
       "    </tr>\n",
       "    <tr>\n",
       "      <th>9</th>\n",
       "      <td>TXDelta County</td>\n",
       "      <td>TX</td>\n",
       "      <td>Delta County</td>\n",
       "      <td>48119</td>\n",
       "      <td>75469</td>\n",
       "      <td>Rural: Remote</td>\n",
       "      <td>NaN</td>\n",
       "      <td>5,406</td>\n",
       "      <td>6/1000</td>\n",
       "      <td>4.18</td>\n",
       "      <td>...</td>\n",
       "      <td>108.26%</td>\n",
       "      <td>115.55%</td>\n",
       "      <td>74.63%</td>\n",
       "      <td>94.65%</td>\n",
       "      <td>107.74%</td>\n",
       "      <td>125.03%</td>\n",
       "      <td>132.93%</td>\n",
       "      <td>349</td>\n",
       "      <td>10</td>\n",
       "      <td>454</td>\n",
       "    </tr>\n",
       "    <tr>\n",
       "      <th>...</th>\n",
       "      <td>...</td>\n",
       "      <td>...</td>\n",
       "      <td>...</td>\n",
       "      <td>...</td>\n",
       "      <td>...</td>\n",
       "      <td>...</td>\n",
       "      <td>...</td>\n",
       "      <td>...</td>\n",
       "      <td>...</td>\n",
       "      <td>...</td>\n",
       "      <td>...</td>\n",
       "      <td>...</td>\n",
       "      <td>...</td>\n",
       "      <td>...</td>\n",
       "      <td>...</td>\n",
       "      <td>...</td>\n",
       "      <td>...</td>\n",
       "      <td>...</td>\n",
       "      <td>...</td>\n",
       "      <td>...</td>\n",
       "      <td>...</td>\n",
       "    </tr>\n",
       "    <tr>\n",
       "      <th>3119</th>\n",
       "      <td>TXTarrant County</td>\n",
       "      <td>TX</td>\n",
       "      <td>Tarrant County</td>\n",
       "      <td>48439</td>\n",
       "      <td>76118</td>\n",
       "      <td>Suburb: Large</td>\n",
       "      <td>NaN</td>\n",
       "      <td>2,154,595</td>\n",
       "      <td>30/1000</td>\n",
       "      <td>3.74</td>\n",
       "      <td>...</td>\n",
       "      <td>103.15%</td>\n",
       "      <td>108.74%</td>\n",
       "      <td>62.17%</td>\n",
       "      <td>83.12%</td>\n",
       "      <td>95.65%</td>\n",
       "      <td>113.37%</td>\n",
       "      <td>120.02%</td>\n",
       "      <td>3036</td>\n",
       "      <td>3120</td>\n",
       "      <td>3125</td>\n",
       "    </tr>\n",
       "    <tr>\n",
       "      <th>3122</th>\n",
       "      <td>TXBexar County</td>\n",
       "      <td>TX</td>\n",
       "      <td>Bexar County</td>\n",
       "      <td>48029</td>\n",
       "      <td>78109</td>\n",
       "      <td>Suburb: Large</td>\n",
       "      <td>NaN</td>\n",
       "      <td>2,059,530</td>\n",
       "      <td>50/1000</td>\n",
       "      <td>3.84</td>\n",
       "      <td>...</td>\n",
       "      <td>109.29%</td>\n",
       "      <td>115.61%</td>\n",
       "      <td>66.44%</td>\n",
       "      <td>90.25%</td>\n",
       "      <td>104.20%</td>\n",
       "      <td>122.00%</td>\n",
       "      <td>128.41%</td>\n",
       "      <td>3035</td>\n",
       "      <td>3123</td>\n",
       "      <td>3122</td>\n",
       "    </tr>\n",
       "    <tr>\n",
       "      <th>3123</th>\n",
       "      <td>TXHidalgo County</td>\n",
       "      <td>TX</td>\n",
       "      <td>Hidalgo County</td>\n",
       "      <td>48215</td>\n",
       "      <td>78539</td>\n",
       "      <td>City: Midsize</td>\n",
       "      <td>NaN</td>\n",
       "      <td>888,367</td>\n",
       "      <td>30/1000</td>\n",
       "      <td>6.93</td>\n",
       "      <td>...</td>\n",
       "      <td>138.74%</td>\n",
       "      <td>148.26%</td>\n",
       "      <td>90.28%</td>\n",
       "      <td>119.83%</td>\n",
       "      <td>138.05%</td>\n",
       "      <td>160.55%</td>\n",
       "      <td>169.30%</td>\n",
       "      <td>3020</td>\n",
       "      <td>3124</td>\n",
       "      <td>3104</td>\n",
       "    </tr>\n",
       "    <tr>\n",
       "      <th>3124</th>\n",
       "      <td>TXDallas County</td>\n",
       "      <td>TX</td>\n",
       "      <td>Dallas County</td>\n",
       "      <td>48113</td>\n",
       "      <td>75146</td>\n",
       "      <td>Rural: Fringe</td>\n",
       "      <td>NaN</td>\n",
       "      <td>2,600,840</td>\n",
       "      <td>36/1000</td>\n",
       "      <td>3.85</td>\n",
       "      <td>...</td>\n",
       "      <td>121.22%</td>\n",
       "      <td>128.02%</td>\n",
       "      <td>73.80%</td>\n",
       "      <td>98.57%</td>\n",
       "      <td>113.73%</td>\n",
       "      <td>133.57%</td>\n",
       "      <td>141.59%</td>\n",
       "      <td>3041</td>\n",
       "      <td>3125</td>\n",
       "      <td>3129</td>\n",
       "    </tr>\n",
       "    <tr>\n",
       "      <th>3131</th>\n",
       "      <td>TXHarris County</td>\n",
       "      <td>TX</td>\n",
       "      <td>Harris County</td>\n",
       "      <td>48201</td>\n",
       "      <td>77338</td>\n",
       "      <td>Suburb: Large</td>\n",
       "      <td>NaN</td>\n",
       "      <td>4,780,913</td>\n",
       "      <td>41/1000</td>\n",
       "      <td>4.41</td>\n",
       "      <td>...</td>\n",
       "      <td>107.78%</td>\n",
       "      <td>113.98%</td>\n",
       "      <td>65.82%</td>\n",
       "      <td>87.55%</td>\n",
       "      <td>101.09%</td>\n",
       "      <td>119.65%</td>\n",
       "      <td>126.92%</td>\n",
       "      <td>3046</td>\n",
       "      <td>3132</td>\n",
       "      <td>3131</td>\n",
       "    </tr>\n",
       "  </tbody>\n",
       "</table>\n",
       "<p>253 rows × 34 columns</p>\n",
       "</div>"
      ],
      "text/plain": [
       "            countyhelper LSTATE            NMCNTY   FIPS   LZIP  \\\n",
       "1      TXMcmullen County     TX   McMullen County  48311  78072   \n",
       "2       TXTerrell County     TX    Terrell County  48443  79848   \n",
       "7       TXCochran County     TX    Cochran County  48079  79379   \n",
       "8     TXArmstrong County     TX  Armstrong County  48011  79019   \n",
       "9         TXDelta County     TX      Delta County  48119  75469   \n",
       "...                  ...    ...               ...    ...    ...   \n",
       "3119    TXTarrant County     TX    Tarrant County  48439  76118   \n",
       "3122      TXBexar County     TX      Bexar County  48029  78109   \n",
       "3123    TXHidalgo County     TX    Hidalgo County  48215  78539   \n",
       "3124     TXDallas County     TX     Dallas County  48113  75146   \n",
       "3131     TXHarris County     TX     Harris County  48201  77338   \n",
       "\n",
       "             ULOCALE  Overall Rank 2022 Population 2016 Crime Rate  \\\n",
       "1      Rural: Remote           NaN             576         47/1000   \n",
       "2      Rural: Remote           NaN             693         20/1000   \n",
       "7      Rural: Remote           NaN           2,526         33/1000   \n",
       "8     Rural: Distant           NaN           1,850          7/1000   \n",
       "9      Rural: Remote           NaN           5,406          6/1000   \n",
       "...              ...           ...             ...             ...   \n",
       "3119   Suburb: Large           NaN       2,154,595         30/1000   \n",
       "3122   Suburb: Large           NaN       2,059,530         50/1000   \n",
       "3123   City: Midsize           NaN         888,367         30/1000   \n",
       "3124   Rural: Fringe           NaN       2,600,840         36/1000   \n",
       "3131   Suburb: Large           NaN       4,780,913         41/1000   \n",
       "\n",
       "      Unemployment  ...     1p3c     1p4c    2p0c     2p1c     2p2c     2p3c  \\\n",
       "1             1.81  ...  105.46%  111.95%  72.03%   90.73%  104.21%  120.05%   \n",
       "2             3.54  ...  127.10%  135.84%  87.96%  110.73%  125.11%  145.91%   \n",
       "7             5.08  ...  112.29%  121.64%  79.03%   99.96%  114.19%  131.65%   \n",
       "8             2.85  ...  103.99%  110.78%  63.85%   85.75%   98.54%  116.02%   \n",
       "9             4.18  ...  108.26%  115.55%  74.63%   94.65%  107.74%  125.03%   \n",
       "...            ...  ...      ...      ...     ...      ...      ...      ...   \n",
       "3119          3.74  ...  103.15%  108.74%  62.17%   83.12%   95.65%  113.37%   \n",
       "3122          3.84  ...  109.29%  115.61%  66.44%   90.25%  104.20%  122.00%   \n",
       "3123          6.93  ...  138.74%  148.26%  90.28%  119.83%  138.05%  160.55%   \n",
       "3124          3.85  ...  121.22%  128.02%  73.80%   98.57%  113.73%  133.57%   \n",
       "3131          4.41  ...  107.78%  113.98%  65.82%   87.55%  101.09%  119.65%   \n",
       "\n",
       "         2p4c Stu:Tea Rank  Diversity Rank (Race)  Diversity Rank (Gender)  \n",
       "1     127.11%            3                      2                       87  \n",
       "2     153.79%           12                      3                       47  \n",
       "7     140.54%           41                      8                      135  \n",
       "8     122.96%           16                      9                       28  \n",
       "9     132.93%          349                     10                      454  \n",
       "...       ...          ...                    ...                      ...  \n",
       "3119  120.02%         3036                   3120                     3125  \n",
       "3122  128.41%         3035                   3123                     3122  \n",
       "3123  169.30%         3020                   3124                     3104  \n",
       "3124  141.59%         3041                   3125                     3129  \n",
       "3131  126.92%         3046                   3132                     3131  \n",
       "\n",
       "[253 rows x 34 columns]"
      ]
     },
     "execution_count": 170,
     "metadata": {},
     "output_type": "execute_result"
    }
   ],
   "source": [
    "quality_Texas"
   ]
  },
  {
   "cell_type": "code",
   "execution_count": null,
   "metadata": {},
   "outputs": [],
   "source": []
  }
 ],
 "metadata": {
  "kernelspec": {
   "display_name": "Python 3",
   "language": "python",
   "name": "python3"
  },
  "language_info": {
   "codemirror_mode": {
    "name": "ipython",
    "version": 3
   },
   "file_extension": ".py",
   "mimetype": "text/x-python",
   "name": "python",
   "nbconvert_exporter": "python",
   "pygments_lexer": "ipython3",
   "version": "3.12.7"
  }
 },
 "nbformat": 4,
 "nbformat_minor": 2
}
